{
 "cells": [
  {
   "cell_type": "code",
   "execution_count": 1,
   "metadata": {
    "collapsed": false
   },
   "outputs": [],
   "source": [
    "from atmPy.instruments.POPS import calibration\n",
    "%matplotlib inline"
   ]
  },
  {
   "cell_type": "markdown",
   "metadata": {},
   "source": [
    "# How to use it"
   ]
  },
  {
   "cell_type": "markdown",
   "metadata": {},
   "source": [
    "## Read and save Data"
   ]
  },
  {
   "cell_type": "markdown",
   "metadata": {},
   "source": [
    "This section shows how to read and save calibration data. In the process the data will be fit and a calibration function is created. Data and function can be plotted using the plot function mentioned below."
   ]
  },
  {
   "cell_type": "markdown",
   "metadata": {},
   "source": [
    "### read from string"
   ]
  },
  {
   "cell_type": "markdown",
   "metadata": {},
   "source": [
    "create a string where each line consist of a diameter value (in nm) and an amplitude (in digitizer bin) seperated by space. <br> Note, in the example below the secend column is the $log_{10}(amplitude)$. The following cell does the convertion!"
   ]
  },
  {
   "cell_type": "code",
   "execution_count": 2,
   "metadata": {
    "collapsed": false
   },
   "outputs": [],
   "source": [
    "data = \"\"\"130 1.73\n",
    "140 1.85\n",
    "150 1.99\n",
    "173 2.28\n",
    "200 2.53\n",
    "233 2.77\n",
    "270 2.96\n",
    "315 3.04\n",
    "365 3.165\n",
    "420 3.213\n",
    "490 3.355\n",
    "570 3.56\n",
    "660 3.72\n",
    "770 3.795\n",
    "890 3.86\n",
    "1040 4.0\n",
    "1200 4.05\n",
    "1400 4.1\n",
    "1600 4.18\n",
    "1880 4.32\n",
    "2180 4.44\n",
    "2500 4.5\"\"\""
   ]
  },
  {
   "cell_type": "code",
   "execution_count": 3,
   "metadata": {
    "collapsed": false
   },
   "outputs": [
    {
     "data": {
      "text/html": [
       "<div style=\"max-height:1000px;max-width:1500px;overflow:auto;\">\n",
       "<table border=\"1\" class=\"dataframe\">\n",
       "  <thead>\n",
       "    <tr style=\"text-align: right;\">\n",
       "      <th></th>\n",
       "      <th>d</th>\n",
       "      <th>amp</th>\n",
       "    </tr>\n",
       "  </thead>\n",
       "  <tbody>\n",
       "    <tr>\n",
       "      <th>0</th>\n",
       "      <td>130</td>\n",
       "      <td>53.703180</td>\n",
       "    </tr>\n",
       "    <tr>\n",
       "      <th>1</th>\n",
       "      <td>140</td>\n",
       "      <td>70.794578</td>\n",
       "    </tr>\n",
       "    <tr>\n",
       "      <th>2</th>\n",
       "      <td>150</td>\n",
       "      <td>97.723722</td>\n",
       "    </tr>\n",
       "    <tr>\n",
       "      <th>3</th>\n",
       "      <td>173</td>\n",
       "      <td>190.546072</td>\n",
       "    </tr>\n",
       "    <tr>\n",
       "      <th>4</th>\n",
       "      <td>200</td>\n",
       "      <td>338.844156</td>\n",
       "    </tr>\n",
       "    <tr>\n",
       "      <th>5</th>\n",
       "      <td>233</td>\n",
       "      <td>588.843655</td>\n",
       "    </tr>\n",
       "    <tr>\n",
       "      <th>6</th>\n",
       "      <td>270</td>\n",
       "      <td>912.010839</td>\n",
       "    </tr>\n",
       "    <tr>\n",
       "      <th>7</th>\n",
       "      <td>315</td>\n",
       "      <td>1096.478196</td>\n",
       "    </tr>\n",
       "    <tr>\n",
       "      <th>8</th>\n",
       "      <td>365</td>\n",
       "      <td>1462.177174</td>\n",
       "    </tr>\n",
       "    <tr>\n",
       "      <th>9</th>\n",
       "      <td>420</td>\n",
       "      <td>1633.051948</td>\n",
       "    </tr>\n",
       "    <tr>\n",
       "      <th>10</th>\n",
       "      <td>490</td>\n",
       "      <td>2264.644308</td>\n",
       "    </tr>\n",
       "    <tr>\n",
       "      <th>11</th>\n",
       "      <td>570</td>\n",
       "      <td>3630.780548</td>\n",
       "    </tr>\n",
       "    <tr>\n",
       "      <th>12</th>\n",
       "      <td>660</td>\n",
       "      <td>5248.074602</td>\n",
       "    </tr>\n",
       "    <tr>\n",
       "      <th>13</th>\n",
       "      <td>770</td>\n",
       "      <td>6237.348355</td>\n",
       "    </tr>\n",
       "    <tr>\n",
       "      <th>14</th>\n",
       "      <td>890</td>\n",
       "      <td>7244.359601</td>\n",
       "    </tr>\n",
       "    <tr>\n",
       "      <th>15</th>\n",
       "      <td>1040</td>\n",
       "      <td>10000.000000</td>\n",
       "    </tr>\n",
       "    <tr>\n",
       "      <th>16</th>\n",
       "      <td>1200</td>\n",
       "      <td>11220.184543</td>\n",
       "    </tr>\n",
       "    <tr>\n",
       "      <th>17</th>\n",
       "      <td>1400</td>\n",
       "      <td>12589.254118</td>\n",
       "    </tr>\n",
       "    <tr>\n",
       "      <th>18</th>\n",
       "      <td>1600</td>\n",
       "      <td>15135.612484</td>\n",
       "    </tr>\n",
       "    <tr>\n",
       "      <th>19</th>\n",
       "      <td>1880</td>\n",
       "      <td>20892.961309</td>\n",
       "    </tr>\n",
       "    <tr>\n",
       "      <th>20</th>\n",
       "      <td>2180</td>\n",
       "      <td>27542.287033</td>\n",
       "    </tr>\n",
       "    <tr>\n",
       "      <th>21</th>\n",
       "      <td>2500</td>\n",
       "      <td>31622.776602</td>\n",
       "    </tr>\n",
       "  </tbody>\n",
       "</table>\n",
       "</div>"
      ],
      "text/plain": [
       "       d           amp\n",
       "0    130     53.703180\n",
       "1    140     70.794578\n",
       "2    150     97.723722\n",
       "3    173    190.546072\n",
       "4    200    338.844156\n",
       "5    233    588.843655\n",
       "6    270    912.010839\n",
       "7    315   1096.478196\n",
       "8    365   1462.177174\n",
       "9    420   1633.051948\n",
       "10   490   2264.644308\n",
       "11   570   3630.780548\n",
       "12   660   5248.074602\n",
       "13   770   6237.348355\n",
       "14   890   7244.359601\n",
       "15  1040  10000.000000\n",
       "16  1200  11220.184543\n",
       "17  1400  12589.254118\n",
       "18  1600  15135.612484\n",
       "19  1880  20892.961309\n",
       "20  2180  27542.287033\n",
       "21  2500  31622.776602"
      ]
     },
     "execution_count": 3,
     "metadata": {},
     "output_type": "execute_result"
    }
   ],
   "source": [
    "cal = calibration.read_str(data)\n",
    "cal.data.amp = 10**cal.data.amp\n",
    "cal.calibrationFunction = cal.get_calibrationFunctionSpline()\n",
    "cal.data"
   ]
  },
  {
   "cell_type": "markdown",
   "metadata": {},
   "source": [
    "### Save the calibration from above"
   ]
  },
  {
   "cell_type": "code",
   "execution_count": 4,
   "metadata": {
    "collapsed": false
   },
   "outputs": [
    {
     "name": "stdout",
     "output_type": "stream",
     "text": [
      "/Users/htelg/data/POPS_calibrations\n"
     ]
    }
   ],
   "source": [
    "cd ~/data/POPS_calibrations/"
   ]
  },
  {
   "cell_type": "code",
   "execution_count": 5,
   "metadata": {
    "collapsed": false
   },
   "outputs": [],
   "source": [
    "fname = '150108_M2_DOC'\n",
    "calibration.save_Calibration(cal,fname)"
   ]
  },
  {
   "cell_type": "markdown",
   "metadata": {},
   "source": [
    "or "
   ]
  },
  {
   "cell_type": "code",
   "execution_count": 6,
   "metadata": {
    "collapsed": false
   },
   "outputs": [],
   "source": [
    "cal.save_csv(fname)"
   ]
  },
  {
   "cell_type": "markdown",
   "metadata": {},
   "source": [
    "### read the file we just saved"
   ]
  },
  {
   "cell_type": "code",
   "execution_count": 8,
   "metadata": {
    "collapsed": false
   },
   "outputs": [],
   "source": [
    "out = calibration.read_csv(fname)"
   ]
  },
  {
   "cell_type": "markdown",
   "metadata": {},
   "source": [
    "### Determine Amplitude by reading a peak file"
   ]
  },
  {
   "cell_type": "code",
   "execution_count": 11,
   "metadata": {
    "collapsed": true
   },
   "outputs": [],
   "source": [
    "from atmPy.instruments.POPS import peaks"
   ]
  },
  {
   "cell_type": "code",
   "execution_count": 9,
   "metadata": {
    "collapsed": false
   },
   "outputs": [
    {
     "name": "stdout",
     "output_type": "stream",
     "text": [
      "/Users/htelg/data/20150120_circularPolarizedLight/20150120\n"
     ]
    }
   ],
   "source": [
    "cd ~/data/20150120_circularPolarizedLight/20150120/"
   ]
  },
  {
   "cell_type": "code",
   "execution_count": 12,
   "metadata": {
    "collapsed": false
   },
   "outputs": [
    {
     "name": "stderr",
     "output_type": "stream",
     "text": [
      "/Users/htelg/prog/atm-py/atmPy/sizedistribution.py:164: UserWarning: The dataset provided had 1 gaps\n",
      "  warnings.warn('The dataset provided had %s gaps' % len(where))\n"
     ]
    },
    {
     "ename": "AttributeError",
     "evalue": "'SizeDist' object has no attribute 'average_overTime'",
     "output_type": "error",
     "traceback": [
      "\u001b[0;31m---------------------------------------------------------------------------\u001b[0m",
      "\u001b[0;31mAttributeError\u001b[0m                            Traceback (most recent call last)",
      "\u001b[0;32m<ipython-input-12-ad564dc8a564>\u001b[0m in \u001b[0;36m<module>\u001b[0;34m()\u001b[0m\n\u001b[1;32m      2\u001b[0m \u001b[0mm\u001b[0m \u001b[0;34m=\u001b[0m \u001b[0mpeaks\u001b[0m\u001b[0;34m.\u001b[0m\u001b[0mread_binary\u001b[0m\u001b[0;34m(\u001b[0m\u001b[0mfname\u001b[0m\u001b[0;34m)\u001b[0m\u001b[0;34m\u001b[0m\u001b[0m\n\u001b[1;32m      3\u001b[0m \u001b[0mdist\u001b[0m \u001b[0;34m=\u001b[0m \u001b[0mm\u001b[0m\u001b[0;34m.\u001b[0m\u001b[0mpeak2peakHeightDistribution\u001b[0m\u001b[0;34m(\u001b[0m\u001b[0;34m)\u001b[0m\u001b[0;34m\u001b[0m\u001b[0m\n\u001b[0;32m----> 4\u001b[0;31m \u001b[0mdist\u001b[0m \u001b[0;34m=\u001b[0m \u001b[0mdist\u001b[0m\u001b[0;34m.\u001b[0m\u001b[0maverage_overTime\u001b[0m\u001b[0;34m(\u001b[0m\u001b[0;34m)\u001b[0m\u001b[0;34m\u001b[0m\u001b[0m\n\u001b[0m\u001b[1;32m      5\u001b[0m \u001b[0mdist809\u001b[0m \u001b[0;34m=\u001b[0m \u001b[0mdist\u001b[0m\u001b[0;34m.\u001b[0m\u001b[0mzoom_time\u001b[0m\u001b[0;34m(\u001b[0m\u001b[0mstart\u001b[0m \u001b[0;34m=\u001b[0m \u001b[0;34m'2015-01-20 11:15:20'\u001b[0m\u001b[0;34m,\u001b[0m \u001b[0mend\u001b[0m \u001b[0;34m=\u001b[0m \u001b[0;34m'2015-01-20 11:15:50'\u001b[0m\u001b[0;34m)\u001b[0m\u001b[0;34m\u001b[0m\u001b[0m\n\u001b[1;32m      6\u001b[0m \u001b[0mdist809\u001b[0m\u001b[0;34m.\u001b[0m\u001b[0mplot_distribution\u001b[0m\u001b[0;34m(\u001b[0m\u001b[0mnorm\u001b[0m \u001b[0;34m=\u001b[0m \u001b[0;34m'log'\u001b[0m\u001b[0;34m)\u001b[0m\u001b[0;34m\u001b[0m\u001b[0m\n",
      "\u001b[0;31mAttributeError\u001b[0m: 'SizeDist' object has no attribute 'average_overTime'"
     ]
    }
   ],
   "source": [
    "fname = '20150120_000_POPS_Peak.bin'\n",
    "m = peaks.read_binary(fname)\n",
    "dist = m.peak2peakHeightDistribution()\n",
    "dist = dist.average_overTime()\n",
    "dist809 = dist.zoom_time(start = '2015-01-20 11:15:20', end = '2015-01-20 11:15:50')\n",
    "dist809.plot_distribution(norm = 'log')\n",
    "hist = dist809.average_overAllTime()\n",
    "f,a = plt.subplots()\n",
    "a.plot(dist809.bincenters,hist)\n",
    "a.semilogx()"
   ]
  },
  {
   "cell_type": "markdown",
   "metadata": {},
   "source": [
    "## plot the created calibration function and data"
   ]
  },
  {
   "cell_type": "code",
   "execution_count": 11,
   "metadata": {
    "collapsed": false
   },
   "outputs": [
    {
     "name": "stderr",
     "output_type": "stream",
     "text": [
      "/opt/local/Library/Frameworks/Python.framework/Versions/2.7/lib/python2.7/site-packages/matplotlib/figure.py:1644: UserWarning: This figure includes Axes that are not compatible with tight_layout, so its results might be incorrect.\n",
      "  warnings.warn(\"This figure includes Axes that are not \"\n"
     ]
    },
    {
     "data": {
      "image/png": "[encoded data removed]",
      "text/plain": [
       "<matplotlib.figure.Figure at 0x10fd63a90>"
      ]
     },
     "metadata": {},
     "output_type": "display_data"
    }
   ],
   "source": [
    "f,a,df,gf = cal.plot_calibration()"
   ]
  },
  {
   "cell_type": "markdown",
   "metadata": {
    "collapsed": false
   },
   "source": [
    "## Translate interface bins to diameters"
   ]
  },
  {
   "cell_type": "code",
   "execution_count": 17,
   "metadata": {
    "collapsed": false,
    "scrolled": false
   },
   "outputs": [
    {
     "name": "stdout",
     "output_type": "stream",
     "text": [
      "\n",
      "bin edges (digitizer bins)\n",
      "--------------------------\n",
      "25.1188643151\n",
      "40.9732109814\n",
      "66.8343917569\n",
      "109.018449239\n",
      "177.827941004\n",
      "290.068119869\n",
      "473.151258961\n",
      "771.791515585\n",
      "1258.92541179\n",
      "2053.52502646\n",
      "3349.65439158\n",
      "5463.86549882\n",
      "8912.50938134\n",
      "14537.8438561\n",
      "23713.7370566\n",
      "38681.2054633\n",
      "63095.734448\n",
      "\n",
      "bin centers (digitizer bins)\n",
      "----------------------------\n",
      "33.0460376482\n",
      "53.9038013691\n",
      "87.9264204977\n",
      "143.423195121\n",
      "233.948030437\n",
      "381.609689415\n",
      "622.471387273\n",
      "1015.35846369\n",
      "1656.22521913\n",
      "2701.58970902\n",
      "4406.7599452\n",
      "7188.18744008\n",
      "11725.1766187\n",
      "19125.7904563\n",
      "31197.47126\n",
      "50888.4699557\n",
      "\n",
      "bin centers of logarithms (digitizer bins)\n",
      "----------------------------\n",
      "32.0811553282\n",
      "52.3299114681\n",
      "85.3591339291\n",
      "139.23550682\n",
      "227.117186728\n",
      "370.467402211\n",
      "604.296390238\n",
      "985.711900901\n",
      "1607.86654905\n",
      "2622.70835647\n",
      "4278.09081988\n",
      "6978.3058486\n",
      "11382.8234525\n",
      "18567.3532463\n",
      "30286.5636114\n",
      "49402.6220766\n",
      "\n",
      "\n",
      "bin edges (nm)\n",
      "--------------\n",
      "-13123.6305447\n",
      "46.6840431939\n",
      "142.571641329\n",
      "159.767885528\n",
      "180.088512944\n",
      "203.671751733\n",
      "231.442555915\n",
      "278.203954665\n",
      "365.079142428\n",
      "503.584688239\n",
      "594.171276073\n",
      "766.230032055\n",
      "1074.28311815\n",
      "1688.60408594\n",
      "2138.35179782\n",
      "2864.23372769\n",
      "5130.89339925\n",
      "\n",
      "bin centers (nm)\n",
      "----------------\n",
      "-2561.44444891\n",
      "134.554568952\n",
      "151.969566777\n",
      "170.665148909\n",
      "193.010367613\n",
      "218.190007849\n",
      "253.014866483\n",
      "324.659905185\n",
      "460.571745708\n",
      "551.637033828\n",
      "666.96398972\n",
      "940.939314753\n",
      "1487.84671117\n",
      "1932.77239747\n",
      "2479.59889885\n",
      "3719.97365794\n",
      "\n",
      "bin centers of logarithms (nm)\n",
      "----------------\n",
      "-3309.42962297\n",
      "133.362308214\n",
      "150.931399559\n",
      "169.42416447\n",
      "191.575385102\n",
      "216.53506681\n",
      "250.309341542\n",
      "319.830164546\n",
      "453.185397003\n",
      "546.293397888\n",
      "657.293127812\n",
      "926.222022082\n",
      "1456.83312689\n",
      "1906.16034672\n",
      "2436.31185743\n",
      "3592.45946861\n"
     ]
    },
    {
     "data": {
      "image/png": "[encoded data removed]",
      "text/plain": [
       "<matplotlib.figure.Figure at 0x12283a128>"
      ]
     },
     "metadata": {},
     "output_type": "display_data"
    }
   ],
   "source": [
    "out = calibration.get_interface_bins('/Users/htelg/data/POPS_calibrations/150529_MS1_DOS.csv', 16)"
   ]
  },
  {
   "cell_type": "code",
   "execution_count": null,
   "metadata": {
    "collapsed": true
   },
   "outputs": [],
   "source": []
  }
 ],
 "metadata": {
  "kernelspec": {
   "display_name": "Python 3",
   "language": "python",
   "name": "python3"
  },
  "language_info": {
   "codemirror_mode": {
    "name": "ipython",
    "version": 3
   },
   "file_extension": ".py",
   "mimetype": "text/x-python",
   "name": "python",
   "nbconvert_exporter": "python",
   "pygments_lexer": "ipython3",
   "version": "3.4.3"
  }
 },
 "nbformat": 4,
 "nbformat_minor": 0
}
