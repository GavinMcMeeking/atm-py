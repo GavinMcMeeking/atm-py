{
 "cells": [
  {
   "cell_type": "markdown",
   "metadata": {},
   "source": [
    "# The bhmie module needs significant improvement! "
   ]
  },
  {
   "cell_type": "markdown",
   "metadata": {
    "collapsed": true
   },
   "source": [
    "to check if your value makes sense compare to calculation with: http://omlc.org/calc/mie_calc.html\n"
   ]
  },
  {
   "cell_type": "code",
   "execution_count": 5,
   "metadata": {
    "collapsed": false
   },
   "outputs": [],
   "source": [
    "from atmPy.mie import bhmie "
   ]
  },
  {
   "cell_type": "code",
   "execution_count": 7,
   "metadata": {
    "collapsed": false
   },
   "outputs": [],
   "source": [
    "radius = .1 #micrometer\n",
    "lambda_laser = .650 #micrometer\n",
    "sizeParam = 2 * np.pi/lambda_laser * radius\n",
    "n = complex(1.5,0.01) #refractive index\n",
    "noOfAngles = 100 # this is the number of angles to be calculated between 0 and 90 degrees (i think)\n",
    "mie = bhmie.bhmie_hagen(sizeParam, n, noOfAngles, 2*radius) # the last parameter is nesessary to calculate the scattering efficiency.\n",
    "res = mie.return_Values_as_dict()"
   ]
  },
  {
   "cell_type": "code",
   "execution_count": 8,
   "metadata": {
    "collapsed": false
   },
   "outputs": [
    {
     "data": {
      "text/plain": [
       "['scattering_crosssection',\n",
       " 'phaseFct_S1',\n",
       " 'phaseFct_S2',\n",
       " 'extinction_efficiency',\n",
       " 'asymmetry_parameter',\n",
       " 'backscatter_efficiency',\n",
       " 'extinction_crosssection',\n",
       " 'scattering_efficiency']"
      ]
     },
     "execution_count": 8,
     "metadata": {},
     "output_type": "execute_result"
    }
   ],
   "source": [
    "res.keys()"
   ]
  },
  {
   "cell_type": "code",
   "execution_count": 9,
   "metadata": {
    "collapsed": false
   },
   "outputs": [
    {
     "data": {
      "text/plain": [
       "0.0068098202800653228"
      ]
     },
     "execution_count": 9,
     "metadata": {},
     "output_type": "execute_result"
    }
   ],
   "source": [
    "res['extinction_crosssection']"
   ]
  },
  {
   "cell_type": "code",
   "execution_count": null,
   "metadata": {
    "collapsed": true
   },
   "outputs": [],
   "source": []
  }
 ],
 "metadata": {
  "kernelspec": {
   "display_name": "Python 2",
   "language": "python",
   "name": "python2"
  },
  "language_info": {
   "codemirror_mode": {
    "name": "ipython",
    "version": 2
   },
   "file_extension": ".py",
   "mimetype": "text/x-python",
   "name": "python",
   "nbconvert_exporter": "python",
   "pygments_lexer": "ipython2",
   "version": "2.7.9"
  }
 },
 "nbformat": 4,
 "nbformat_minor": 0
}
