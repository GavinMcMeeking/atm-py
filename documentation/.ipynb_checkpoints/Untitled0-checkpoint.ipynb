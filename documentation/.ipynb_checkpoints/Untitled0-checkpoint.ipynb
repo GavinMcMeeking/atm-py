{
 "metadata": {
  "name": "",
  "signature": "sha256:215f75ad35065198621a9121c604715d5891ec76bfa3a9a6ea7790ee8e3b192a"
 },
 "nbformat": 3,
 "nbformat_minor": 0,
 "worksheets": []
}