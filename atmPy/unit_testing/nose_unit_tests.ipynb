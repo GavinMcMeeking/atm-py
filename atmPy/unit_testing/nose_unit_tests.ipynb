{
 "cells": [
  {
   "cell_type": "markdown",
   "metadata": {
    "collapsed": true
   },
   "source": [
    "# Run the test "
   ]
  },
  {
   "cell_type": "code",
   "execution_count": 1,
   "metadata": {
    "ExecuteTime": {
     "end_time": "2016-12-28T17:14:06.908351",
     "start_time": "2016-12-28T17:14:06.519943"
    },
    "collapsed": true,
    "run_control": {
     "frozen": false,
     "read_only": false
    }
   },
   "outputs": [],
   "source": [
    "from atmPy.unit_testing import run_nose_tests\n",
    "from atmPy.unit_testing import nose_tests"
   ]
  },
  {
   "cell_type": "code",
   "execution_count": 2,
   "metadata": {
    "ExecuteTime": {
     "end_time": "2016-12-28T17:14:06.918975",
     "start_time": "2016-12-28T17:14:06.910428"
    },
    "collapsed": false,
    "run_control": {
     "frozen": false,
     "read_only": false
    }
   },
   "outputs": [
    {
     "data": {
      "text/plain": [
       "<module 'atmPy.unit_testing.nose_tests' from '/Users/htelg/prog/atm-py/atmPy/unit_testing/nose_tests.py'>"
      ]
     },
     "execution_count": 2,
     "metadata": {},
     "output_type": "execute_result"
    }
   ],
   "source": [
    "reload(run_nose_tests)\n",
    "reload(nose_tests)"
   ]
  },
  {
   "cell_type": "markdown",
   "metadata": {},
   "source": [
    "## all"
   ]
  },
  {
   "cell_type": "code",
   "execution_count": 3,
   "metadata": {
    "ExecuteTime": {
     "end_time": "2016-12-28T17:14:47.870223",
     "start_time": "2016-12-28T17:14:07.866006"
    },
    "collapsed": false,
    "run_control": {
     "frozen": false,
     "read_only": false
    }
   },
   "outputs": [
    {
     "name": "stdout",
     "output_type": "stream",
     "text": [
      "..../Users/htelg/prog/atm-py/atmPy/aerosols/size_distribution/sizedistribution.py:2724: VisibleDeprecationWarning: using a non-integer number instead of an integer will result in an error in the future\n",
      "  sdArray = _np.zeros((periods, numberOfDiameters - 1))\n",
      "./Users/htelg/prog/atm-py/atmPy/aerosols/size_distribution/sizedistribution.py:1090: UserWarning: This function is deprecated use close_gaps instead ... unless you like thisone better\n",
      "  _warnings.warn('This function is deprecated use close_gaps instead ... unless you like thisone better')\n",
      "/opt/local/Library/Frameworks/Python.framework/Versions/3.5/lib/python3.5/site-packages/numpy/core/_methods.py:59: RuntimeWarning: Mean of empty slice.\n",
      "  warnings.warn(\"Mean of empty slice.\", RuntimeWarning)\n",
      "/opt/local/Library/Frameworks/Python.framework/Versions/3.5/lib/python3.5/site-packages/numpy/core/_methods.py:70: RuntimeWarning: invalid value encountered in double_scalars\n",
      "  ret = ret.dtype.type(ret / rcount)\n",
      "..\n",
      "----------------------------------------------------------------------\n",
      "Ran 7 tests in 38.043s\n",
      "\n",
      "OK\n"
     ]
    }
   ],
   "source": [
    "run_nose_tests.run()"
   ]
  },
  {
   "cell_type": "markdown",
   "metadata": {},
   "source": [
    "## onebyone"
   ]
  },
  {
   "cell_type": "code",
   "execution_count": 5,
   "metadata": {
    "ExecuteTime": {
     "end_time": "2016-12-28T15:26:32.180420",
     "start_time": "2016-12-28T15:26:32.174590"
    },
    "collapsed": false,
    "run_control": {
     "frozen": false,
     "read_only": false
    }
   },
   "outputs": [
    {
     "data": {
      "text/plain": [
       "<module 'atmPy.unit_testing.nose_tests' from '/Users/htelg/prog/atm-py/atmPy/unit_testing/nose_tests.py'>"
      ]
     },
     "execution_count": 5,
     "metadata": {},
     "output_type": "execute_result"
    }
   ],
   "source": [
    "reload(nose_tests)"
   ]
  },
  {
   "cell_type": "code",
   "execution_count": 1,
   "metadata": {
    "ExecuteTime": {
     "end_time": "2016-12-28T16:22:33.036281",
     "start_time": "2016-12-28T16:22:32.645230"
    },
    "collapsed": true,
    "run_control": {
     "frozen": false,
     "read_only": false
    }
   },
   "outputs": [],
   "source": [
    "from atmPy.unit_testing import run_nose_tests\n",
    "from atmPy.unit_testing import nose_tests"
   ]
  },
  {
   "cell_type": "code",
   "execution_count": 2,
   "metadata": {
    "ExecuteTime": {
     "end_time": "2016-12-28T16:23:14.368053",
     "start_time": "2016-12-28T16:22:33.038583"
    },
    "collapsed": false,
    "run_control": {
     "frozen": false,
     "read_only": false
    }
   },
   "outputs": [
    {
     "name": "stdout",
     "output_type": "stream",
     "text": [
      "> /Users/htelg/prog/atm-py/atmPy/aerosols/size_distribution/sizedistribution.py(2216)apply_hygro_growth()\n",
      "-> if not _np.any(RH):\n",
      "(Pdb) c\n"
     ]
    }
   ],
   "source": [
    "test = nose_tests.SizeDistTest()\n",
    "test.test_growth_opt_propLS()"
   ]
  },
  {
   "cell_type": "code",
   "execution_count": 6,
   "metadata": {
    "ExecuteTime": {
     "end_time": "2016-12-28T16:19:39.877073",
     "start_time": "2016-12-28T16:19:39.873125"
    },
    "collapsed": true,
    "run_control": {
     "frozen": false,
     "read_only": false
    }
   },
   "outputs": [],
   "source": [
    "np.any(None)"
   ]
  },
  {
   "cell_type": "markdown",
   "metadata": {},
   "source": [
    "# data_archives"
   ]
  },
  {
   "cell_type": "markdown",
   "metadata": {},
   "source": [
    "## ARM"
   ]
  },
  {
   "cell_type": "code",
   "execution_count": 1,
   "metadata": {
    "ExecuteTime": {
     "end_time": "2016-12-20T19:50:35.939192",
     "start_time": "2016-12-20T19:50:35.486045"
    },
    "collapsed": true,
    "run_control": {
     "frozen": false,
     "read_only": false
    }
   },
   "outputs": [],
   "source": [
    "from atmPy.data_archives import arm"
   ]
  },
  {
   "cell_type": "code",
   "execution_count": 2,
   "metadata": {
    "ExecuteTime": {
     "end_time": "2016-12-20T19:50:35.947951",
     "start_time": "2016-12-20T19:50:35.941263"
    },
    "collapsed": false,
    "run_control": {
     "frozen": false,
     "read_only": false
    }
   },
   "outputs": [
    {
     "data": {
      "text/plain": [
       "dict_keys(['tdmasize', 'aipfitrh1ogrenC1', 'noaaaos', 'aosacsm', '1twr10xC1', 'tdmahyg', 'tdmaapssize'])"
      ]
     },
     "execution_count": 2,
     "metadata": {},
     "output_type": "execute_result"
    }
   ],
   "source": [
    "arm.arm_products.keys()"
   ]
  },
  {
   "cell_type": "code",
   "execution_count": 3,
   "metadata": {
    "ExecuteTime": {
     "end_time": "2016-12-20T19:50:40.340158",
     "start_time": "2016-12-20T19:50:40.336860"
    },
    "collapsed": true,
    "run_control": {
     "frozen": false,
     "read_only": false
    }
   },
   "outputs": [],
   "source": [
    "fname = './test_data/'"
   ]
  },
  {
   "cell_type": "markdown",
   "metadata": {},
   "source": [
    "### 1twr10xC1"
   ]
  },
  {
   "cell_type": "code",
   "execution_count": 4,
   "metadata": {
    "ExecuteTime": {
     "end_time": "2016-12-20T19:50:43.767656",
     "start_time": "2016-12-20T19:50:43.409900"
    },
    "collapsed": false,
    "run_control": {
     "frozen": false,
     "read_only": false
    }
   },
   "outputs": [],
   "source": [
    "# # create the test file\n",
    "out = arm.read_netCDF(fname, data_product='1twr10xC1')\n",
    "out = out['1twr10xC1']\n",
    "# out.relative_humidity.data.to_csv(fname+'1twr10xC1_rh.csv')\n",
    "# out.temperature.data.to_csv(fname+'1twr10xC1_temp.csv')\n",
    "# out.vapor_pressure.data.to_csv(fname + '1twr10xC1_p_vapor.csv')"
   ]
  },
  {
   "cell_type": "code",
   "execution_count": 73,
   "metadata": {
    "ExecuteTime": {
     "end_time": "2016-05-20T11:10:24.081412",
     "start_time": "2016-05-20T11:10:24.073840"
    },
    "collapsed": false,
    "run_control": {
     "frozen": false,
     "read_only": false
    }
   },
   "outputs": [
    {
     "data": {
      "text/plain": [
       "<module 'nose_tests' from '/Users/htelg/prog/atm-py/unit_testing/nose_tests.py'>"
      ]
     },
     "execution_count": 73,
     "metadata": {},
     "output_type": "execute_result"
    }
   ],
   "source": [
    "reload(nose_tests)"
   ]
  },
  {
   "cell_type": "code",
   "execution_count": 63,
   "metadata": {
    "ExecuteTime": {
     "end_time": "2016-12-20T19:34:16.662455",
     "start_time": "2016-12-20T19:34:16.647938"
    },
    "collapsed": false,
    "run_control": {
     "frozen": false,
     "read_only": false
    }
   },
   "outputs": [
    {
     "ename": "AttributeError",
     "evalue": "module 'atmPy.unit_testing.nose_tests' has no attribute 'test_1twr10xC1'",
     "output_type": "error",
     "traceback": [
      "\u001b[0;31m---------------------------------------------------------------------------\u001b[0m",
      "\u001b[0;31mAttributeError\u001b[0m                            Traceback (most recent call last)",
      "\u001b[0;32m<ipython-input-63-3884ff5b1795>\u001b[0m in \u001b[0;36m<module>\u001b[0;34m()\u001b[0m\n\u001b[0;32m----> 1\u001b[0;31m \u001b[0mnose_tests\u001b[0m\u001b[0;34m.\u001b[0m\u001b[0mtest_1twr10xC1\u001b[0m\u001b[0;34m(\u001b[0m\u001b[0;34m)\u001b[0m\u001b[0;34m\u001b[0m\u001b[0m\n\u001b[0m",
      "\u001b[0;31mAttributeError\u001b[0m: module 'atmPy.unit_testing.nose_tests' has no attribute 'test_1twr10xC1'"
     ]
    }
   ],
   "source": [
    "nose_tests.test_1twr10xC1()"
   ]
  },
  {
   "cell_type": "code",
   "execution_count": 9,
   "metadata": {
    "ExecuteTime": {
     "end_time": "2016-12-20T19:51:26.890982",
     "start_time": "2016-12-20T19:51:26.887227"
    },
    "collapsed": true,
    "run_control": {
     "frozen": false,
     "read_only": false
    }
   },
   "outputs": [],
   "source": [
    "test_data_folder = './test_data/'"
   ]
  },
  {
   "cell_type": "code",
   "execution_count": 10,
   "metadata": {
    "ExecuteTime": {
     "end_time": "2016-12-20T19:51:27.096885",
     "start_time": "2016-12-20T19:51:27.092458"
    },
    "collapsed": true,
    "run_control": {
     "frozen": false,
     "read_only": false
    }
   },
   "outputs": [],
   "source": [
    "from atmPy.data_archives import arm"
   ]
  },
  {
   "cell_type": "code",
   "execution_count": 11,
   "metadata": {
    "ExecuteTime": {
     "end_time": "2016-12-20T19:51:27.660622",
     "start_time": "2016-12-20T19:51:27.280419"
    },
    "collapsed": false,
    "run_control": {
     "frozen": false,
     "read_only": false
    }
   },
   "outputs": [],
   "source": [
    "out = arm.read_netCDF(test_data_folder, data_product='1twr10xC1')\n",
    "out = out['1twr10xC1']"
   ]
  },
  {
   "cell_type": "code",
   "execution_count": 13,
   "metadata": {
    "ExecuteTime": {
     "end_time": "2016-12-20T19:51:37.725806",
     "start_time": "2016-12-20T19:51:37.713631"
    },
    "collapsed": false,
    "run_control": {
     "frozen": false,
     "read_only": false
    }
   },
   "outputs": [],
   "source": [
    "# rh\n",
    "soll = pd.read_csv(test_data_folder + '1twr10xC1_rh.csv', index_col=0,\n",
    "                   dtype={'rh_25m': np.float32, 'rh_60m': np.float32}\n",
    "                   )\n",
    "# self.assertTrue(np.all(out.relative_humidity.data == soll))\n",
    "# np.all(out.relative_humidity.data.index == soll.index)"
   ]
  },
  {
   "cell_type": "code",
   "execution_count": 19,
   "metadata": {
    "ExecuteTime": {
     "end_time": "2016-12-20T19:53:07.223011",
     "start_time": "2016-12-20T19:53:07.211927"
    },
    "collapsed": false,
    "run_control": {
     "frozen": false,
     "read_only": false
    }
   },
   "outputs": [
    {
     "data": {
      "text/plain": [
       "array([ True,  True,  True, ...,  True,  True,  True], dtype=bool)"
      ]
     },
     "execution_count": 19,
     "metadata": {},
     "output_type": "execute_result"
    }
   ],
   "source": [
    "out.relative_humidity.data.index == pd.to_datetime(soll.index)"
   ]
  },
  {
   "cell_type": "code",
   "execution_count": 16,
   "metadata": {
    "ExecuteTime": {
     "end_time": "2016-12-20T19:52:11.100754",
     "start_time": "2016-12-20T19:52:11.093937"
    },
    "collapsed": false,
    "run_control": {
     "frozen": false,
     "read_only": false
    }
   },
   "outputs": [
    {
     "data": {
      "text/plain": [
       "DatetimeIndex(['2012-01-31 23:59:00', '2012-02-01 00:00:00',\n",
       "               '2012-02-01 00:01:00', '2012-02-01 00:02:00',\n",
       "               '2012-02-01 00:03:00', '2012-02-01 00:04:00',\n",
       "               '2012-02-01 00:05:00', '2012-02-01 00:06:00',\n",
       "               '2012-02-01 00:07:00', '2012-02-01 00:08:00',\n",
       "               ...\n",
       "               '2012-02-03 23:49:00', '2012-02-03 23:50:00',\n",
       "               '2012-02-03 23:51:00', '2012-02-03 23:52:00',\n",
       "               '2012-02-03 23:53:00', '2012-02-03 23:54:00',\n",
       "               '2012-02-03 23:55:00', '2012-02-03 23:56:00',\n",
       "               '2012-02-03 23:57:00', '2012-02-03 23:58:00'],\n",
       "              dtype='datetime64[ns]', name='Time', length=4320, freq=None)"
      ]
     },
     "execution_count": 16,
     "metadata": {},
     "output_type": "execute_result"
    }
   ],
   "source": [
    "out.relative_humidity.data.index"
   ]
  },
  {
   "cell_type": "code",
   "execution_count": 72,
   "metadata": {
    "ExecuteTime": {
     "end_time": "2016-12-20T19:38:16.092049",
     "start_time": "2016-12-20T19:38:16.088287"
    },
    "collapsed": false,
    "run_control": {
     "frozen": false,
     "read_only": false
    }
   },
   "outputs": [],
   "source": [
    "soll.columns.name = out.relative_humidity.data.columns.name"
   ]
  },
  {
   "cell_type": "code",
   "execution_count": null,
   "metadata": {
    "collapsed": true,
    "run_control": {
     "frozen": false,
     "read_only": false
    }
   },
   "outputs": [],
   "source": [
    "# temp\n",
    "soll = pd.read_csv(test_data_folder + '1twr10xC1_temp.csv', index_col=0,\n",
    "                   dtype={'temp_25m': np.float32, 'temp_60m': np.float32}\n",
    "                   )\n",
    "self.assertTrue(np.all(out.temperature.data == soll))\n",
    "\n",
    "# vapor pressure\n",
    "soll = pd.read_csv(test_data_folder + '1twr10xC1_p_vapor.csv', index_col=0,\n",
    "                   dtype={'vap_pres_25m': np.float32, 'vap_pres_60m': np.float32}\n",
    "                   )\n",
    "\n",
    "self.assertTrue(np.all(out.vapor_pressure.data == soll))"
   ]
  },
  {
   "cell_type": "markdown",
   "metadata": {
    "ExecuteTime": {
     "end_time": "2016-05-20T11:09:43.863352",
     "start_time": "2016-05-20T11:09:43.858524"
    },
    "collapsed": false,
    "run_control": {
     "frozen": false,
     "read_only": false
    }
   },
   "source": [
    "# Aerosols"
   ]
  },
  {
   "cell_type": "markdown",
   "metadata": {
    "collapsed": true,
    "run_control": {
     "frozen": false,
     "read_only": false
    }
   },
   "source": [
    "## sizedistribution"
   ]
  },
  {
   "cell_type": "markdown",
   "metadata": {},
   "source": [
    "### concentrations"
   ]
  },
  {
   "cell_type": "code",
   "execution_count": 28,
   "metadata": {
    "ExecuteTime": {
     "end_time": "2016-12-21T07:19:42.312001",
     "start_time": "2016-12-21T07:19:42.303974"
    },
    "collapsed": true,
    "run_control": {
     "frozen": false,
     "read_only": false
    }
   },
   "outputs": [],
   "source": [
    "from atmPy.aerosols import size_distribution\n",
    "%matplotlib inline"
   ]
  },
  {
   "cell_type": "code",
   "execution_count": 87,
   "metadata": {
    "ExecuteTime": {
     "end_time": "2016-12-21T08:37:47.500045",
     "start_time": "2016-12-21T08:37:47.494457"
    },
    "collapsed": true,
    "run_control": {
     "frozen": false,
     "read_only": false
    }
   },
   "outputs": [],
   "source": [
    "sd = size_distribution.sizedistribution.simulate_sizedistribution(diameter=[15, 3000], \n",
    "                                                             numberOfDiameters=50, \n",
    "                                                             centerOfAerosolMode=222, \n",
    "                                                             widthOfAerosolMode=0.18, \n",
    "                                                             numberOfParticsInMode=888)\n",
    "\n",
    "sd.particle_number_concentration == 888.0\n",
    "\n",
    "float(sd.particle_surface_concentration.values) == 194.42186363605904\n",
    "\n",
    "float(sd.particle_volume_concentration.values) == 11.068545094055812\n",
    "\n",
    "sd.properties.particle_density =2.2\n",
    "\n",
    "float(sd.particle_mass_concentration) == 24.350799206922783"
   ]
  },
  {
   "cell_type": "markdown",
   "metadata": {},
   "source": [
    "#### including mixing rations"
   ]
  },
  {
   "cell_type": "code",
   "execution_count": 28,
   "metadata": {
    "ExecuteTime": {
     "end_time": "2016-12-21T07:19:42.312001",
     "start_time": "2016-12-21T07:19:42.303974"
    },
    "collapsed": true,
    "run_control": {
     "frozen": false,
     "read_only": false
    }
   },
   "outputs": [],
   "source": [
    "from atmPy.aerosols import size_distribution\n",
    "%matplotlib inline"
   ]
  },
  {
   "cell_type": "code",
   "execution_count": 175,
   "metadata": {
    "ExecuteTime": {
     "end_time": "2016-12-21T09:07:54.483032",
     "start_time": "2016-12-21T09:07:54.435166"
    },
    "collapsed": false,
    "run_control": {
     "frozen": false,
     "read_only": false
    }
   },
   "outputs": [
    {
     "name": "stderr",
     "output_type": "stream",
     "text": [
      "/Users/htelg/prog/atm-py/atmPy/aerosols/size_distribution/sizedistribution.py:2442: VisibleDeprecationWarning: using a non-integer number instead of an integer will result in an error in the future\n",
      "  sdArray = _np.zeros((periods, numberOfDiameters - 1))\n"
     ]
    }
   ],
   "source": [
    "sd = size_distribution.sizedistribution.simulate_sizedistribution_timeseries(diameter=[15, 3000], \n",
    "                                                                             numberOfDiameters=50, \n",
    "                                                                             centerOfAerosolMode=222, \n",
    "                                                                             widthOfAerosolMode=0.18, \n",
    "                                                                             numberOfParticsInMode=888, \n",
    "                                                                             startDate='2015-10-23 16:00:00', \n",
    "                                                                             endDate='2015-10-23 17:00:00', \n",
    "                                                                             frequency=60)\n",
    "\n",
    "sd.data = sd.data.iloc[[0],:]\n",
    "sd.housekeeping = atmPy.general.timeseries.TimeSeries(pd.DataFrame(np.array([[250.], [750.]]).transpose(), index = sd.data.index, columns=['temperature_K', 'pressure_Pa']))\n",
    "sd.properties.particle_density =2.8\n",
    "float(sd.particle_mass_mixing_ratio.data.values) * 1e6 == 2.96533739732464"
   ]
  },
  {
   "cell_type": "markdown",
   "metadata": {},
   "source": [
    "### moment conversion"
   ]
  },
  {
   "cell_type": "code",
   "execution_count": 28,
   "metadata": {
    "ExecuteTime": {
     "end_time": "2016-12-21T07:19:42.312001",
     "start_time": "2016-12-21T07:19:42.303974"
    },
    "collapsed": true,
    "run_control": {
     "frozen": false,
     "read_only": false
    }
   },
   "outputs": [],
   "source": [
    "from atmPy.aerosols import size_distribution\n",
    "%matplotlib inline"
   ]
  },
  {
   "cell_type": "code",
   "execution_count": 76,
   "metadata": {
    "ExecuteTime": {
     "end_time": "2016-12-21T08:20:39.174178",
     "start_time": "2016-12-21T08:20:39.104892"
    },
    "collapsed": false,
    "run_control": {
     "frozen": false,
     "read_only": false
    }
   },
   "outputs": [
    {
     "name": "stderr",
     "output_type": "stream",
     "text": [
      "/Users/htelg/prog/atm-py/atmPy/aerosols/size_distribution/sizedistribution.py:844: UserWarning: This function is deprecated use close_gaps instead ... unless you like thisone better\n",
      "  _warnings.warn('This function is deprecated use close_gaps instead ... unless you like thisone better')\n",
      "/opt/local/Library/Frameworks/Python.framework/Versions/3.5/lib/python3.5/site-packages/numpy/core/_methods.py:59: RuntimeWarning: Mean of empty slice.\n",
      "  warnings.warn(\"Mean of empty slice.\", RuntimeWarning)\n",
      "/opt/local/Library/Frameworks/Python.framework/Versions/3.5/lib/python3.5/site-packages/numpy/core/_methods.py:70: RuntimeWarning: invalid value encountered in double_scalars\n",
      "  ret = ret.dtype.type(ret / rcount)\n"
     ]
    }
   ],
   "source": [
    "sd = size_distribution.sizedistribution.simulate_sizedistribution(diameter=[15, 3000], \n",
    "                                                             numberOfDiameters=50, \n",
    "                                                             centerOfAerosolMode=222, \n",
    "                                                             widthOfAerosolMode=0.18, \n",
    "                                                             numberOfParticsInMode=888)\n",
    "\n",
    "sd_dNdDp = sd.convert2dNdDp()\n",
    "sd_dNdlogDp = sd.convert2dNdlogDp()\n",
    "sd_dSdDp = sd.convert2dSdDp()\n",
    "sd_dSdlogDp = sd.convert2dSdlogDp()\n",
    "sd_dVdDp = sd.convert2dVdDp()\n",
    "sd_dVdlogDp = sd.convert2dVdlogDp()\n",
    "\n",
    "folder = './test_data/'\n",
    "\n",
    "# sd.save_csv(folder + 'aerosols_size_dist_moments_sd.nc')\n",
    "# sd_dNdDp.save_csv(folder + 'aerosols_size_dist_moments_sd_dNdDp.nc')\n",
    "# sd_dNdlogDp.save_csv(folder + 'aerosols_size_dist_moments_sd_dNdlogDp.nc')\n",
    "# sd_dSdDp.save_csv(folder + 'aerosols_size_dist_moments_sd_dSdDp.nc')\n",
    "# sd_dSdlogDp.save_csv(folder + 'aerosols_size_dist_moments_sd_dSdlogDp.nc')\n",
    "# sd_dVdDp.save_csv(folder + 'aerosols_size_dist_moments_sd_dVdDp.nc')\n",
    "# sd_dVdlogDp.save_csv(folder + 'aerosols_size_dist_moments_sd_dVdlogDp.nc')\n",
    "\n",
    "sd_soll = size_distribution.sizedistribution.read_csv(folder + 'aerosols_size_dist_moments_sd.nc')\n",
    "sd_dNdDp_soll = size_distribution.sizedistribution.read_csv(folder + 'aerosols_size_dist_moments_sd_dNdDp.nc')\n",
    "sd_dNdlogDp_soll = size_distribution.sizedistribution.read_csv(folder + 'aerosols_size_dist_moments_sd_dNdlogDp.nc')\n",
    "sd_dSdDp_soll = size_distribution.sizedistribution.read_csv(folder + 'aerosols_size_dist_moments_sd_dSdDp.nc')\n",
    "sd_dSdlogDp_soll = size_distribution.sizedistribution.read_csv(folder + 'aerosols_size_dist_moments_sd_dSdlogDp.nc')\n",
    "sd_dVdDp_soll = size_distribution.sizedistribution.read_csv(folder + 'aerosols_size_dist_moments_sd_dVdDp.nc')\n",
    "sd_dVdlogDp_soll = size_distribution.sizedistribution.read_csv(folder + 'aerosols_size_dist_moments_sd_dVdlogDp.nc')\n",
    "\n",
    "threshold = 1e-10\n",
    "assert(abs((sd.data.values - sd_soll.data)).values.sum() < (sd.data.values.max() * threshold))\n",
    "assert((sd_dNdDp.data - sd_dNdDp_soll.data).values.sum() < (sd_dNdDp.data.values.max() * threshold))\n",
    "assert((sd_dSdDp.data - sd_dSdDp_soll.data).values.sum() < (sd_dSdDp.data.values.max() * threshold))\n",
    "assert((sd_dVdDp.data - sd_dVdDp_soll.data).values.sum() < (sd_dVdDp.data.values.max() * threshold))\n",
    "assert((sd_dNdlogDp.data - sd_dNdlogDp_soll.data).values.sum() < (sd_dNdlogDp.data.values.max() * threshold))\n",
    "assert((sd_dSdlogDp.data - sd_dSdlogDp_soll.data).values.sum() < (sd_dSdlogDp.data.values.max() * threshold))\n",
    "assert((sd_dVdlogDp.data - sd_dVdlogDp_soll.data).values.sum() < (sd_dVdlogDp.data.values.max() * threshold))"
   ]
  },
  {
   "cell_type": "code",
   "execution_count": 86,
   "metadata": {
    "ExecuteTime": {
     "end_time": "2016-12-21T08:26:05.615397",
     "start_time": "2016-12-21T08:26:05.609744"
    },
    "collapsed": false,
    "run_control": {
     "frozen": false,
     "read_only": false
    }
   },
   "outputs": [
    {
     "data": {
      "text/plain": [
       "-8.7785748722638802e-16"
      ]
     },
     "execution_count": 86,
     "metadata": {},
     "output_type": "execute_result"
    }
   ],
   "source": [
    "(sd.data.values - sd_soll.data.values).sum()"
   ]
  },
  {
   "cell_type": "code",
   "execution_count": 81,
   "metadata": {
    "ExecuteTime": {
     "end_time": "2016-12-21T08:24:27.198042",
     "start_time": "2016-12-21T08:24:27.190303"
    },
    "collapsed": false,
    "run_control": {
     "frozen": false,
     "read_only": false
    }
   },
   "outputs": [
    {
     "data": {
      "text/plain": [
       "True"
      ]
     },
     "execution_count": 81,
     "metadata": {},
     "output_type": "execute_result"
    }
   ],
   "source": [
    "(abs((sd.data - sd_soll.data).dropna()).values.sum() < (sd.data.values.max() * threshold))"
   ]
  },
  {
   "cell_type": "markdown",
   "metadata": {},
   "source": [
    "### optical properties"
   ]
  },
  {
   "cell_type": "code",
   "execution_count": 1,
   "metadata": {
    "ExecuteTime": {
     "end_time": "2016-12-27T17:23:54.104078",
     "start_time": "2016-12-27T17:23:53.674718"
    },
    "collapsed": true,
    "run_control": {
     "frozen": false,
     "read_only": false
    }
   },
   "outputs": [],
   "source": [
    "from atmPy.aerosols import size_distribution\n",
    "import atmPy\n",
    "from atmPy.unit_testing import nose_tests\n",
    "%matplotlib inline"
   ]
  },
  {
   "cell_type": "code",
   "execution_count": 3,
   "metadata": {
    "ExecuteTime": {
     "end_time": "2016-12-27T17:24:39.969147",
     "start_time": "2016-12-27T17:24:39.258468"
    },
    "collapsed": false,
    "run_control": {
     "frozen": false,
     "read_only": false
    }
   },
   "outputs": [
    {
     "name": "stdout",
     "output_type": "stream",
     "text": [
      "calc opt_prop\n"
     ]
    }
   ],
   "source": [
    "test = nose_tests.SizeDistTest()\n",
    "test.test_opt_prop_LS()"
   ]
  },
  {
   "cell_type": "code",
   "execution_count": 6,
   "metadata": {
    "ExecuteTime": {
     "end_time": "2016-12-27T17:21:31.522089",
     "start_time": "2016-12-27T17:21:30.750262"
    },
    "collapsed": false,
    "run_control": {
     "frozen": false,
     "read_only": false
    }
   },
   "outputs": [
    {
     "name": "stdout",
     "output_type": "stream",
     "text": [
      "calc opt_prop\n"
     ]
    },
    {
     "data": {
      "text/plain": [
       "False"
      ]
     },
     "execution_count": 6,
     "metadata": {},
     "output_type": "execute_result"
    }
   ],
   "source": [
    "sd = size_distribution.sizedistribution.simulate_sizedistribution_layerseries(diameter=[10, 2500], \n",
    "                                                                              numberOfDiameters=100, \n",
    "                                                                              heightlimits=[0, 6000], \n",
    "                                                                              noOflayers=100, \n",
    "                                                                              layerHeight=[500.0, 4000.0], \n",
    "                                                                              layerThickness=[100.0, 300.0], \n",
    "                                                                              layerDensity=[1000.0, 50.0], \n",
    "                                                                              layerModecenter=[200.0, 800.0], \n",
    "                                                                              widthOfAerosolMode=0.2)\n",
    "\n",
    "sd.optical_properties.parameters.refractive_index = 1.56\n",
    "sd.optical_properties.parameters.wavelength = 515\n",
    "\n",
    "fname = './test_data/aerosols_size_dist_LS_optprop.nc'\n",
    "sdl = atmPy.read_file.netCDF(fname)\n",
    "\n",
    "np.all(sd.optical_properties.aod_cumulative.data['aod'] == sdl.data['AOD per Layer'])"
   ]
  },
  {
   "cell_type": "code",
   "execution_count": 8,
   "metadata": {
    "ExecuteTime": {
     "end_time": "2016-12-27T17:22:25.407980",
     "start_time": "2016-12-27T17:22:25.401590"
    },
    "collapsed": false,
    "run_control": {
     "frozen": false,
     "read_only": false
    }
   },
   "outputs": [
    {
     "data": {
      "text/plain": [
       "1.5445301543875677e-19"
      ]
     },
     "execution_count": 8,
     "metadata": {},
     "output_type": "execute_result"
    }
   ],
   "source": [
    "(sd.optical_properties.aod_cumulative.data['aod'] - sdl.data['AOD per Layer']).sum()"
   ]
  },
  {
   "cell_type": "code",
   "execution_count": null,
   "metadata": {
    "collapsed": true,
    "run_control": {
     "frozen": false,
     "read_only": false
    }
   },
   "outputs": [],
   "source": []
  },
  {
   "cell_type": "code",
   "execution_count": null,
   "metadata": {
    "collapsed": true,
    "run_control": {
     "frozen": false,
     "read_only": false
    }
   },
   "outputs": [],
   "source": []
  },
  {
   "cell_type": "code",
   "execution_count": null,
   "metadata": {
    "ExecuteTime": {
     "end_time": "2016-12-27T17:18:58.481351",
     "start_time": "2016-12-28T00:18:57.992Z"
    },
    "collapsed": true,
    "run_control": {
     "frozen": false,
     "read_only": false
    }
   },
   "outputs": [],
   "source": [
    "        if aod:\n",
    "            layerThickness = sdls.layerbounderies[i][1] - sdls.layerbounderies[i][0]\n",
    "            AOD_perBin = extinction_coefficient * layerThickness\n",
    "            AOD_layer[i] = AOD_perBin.values.sum()"
   ]
  },
  {
   "cell_type": "code",
   "execution_count": null,
   "metadata": {
    "ExecuteTime": {
     "end_time": "2016-12-27T16:37:31.837585",
     "start_time": "2016-12-27T16:37:31.812819"
    },
    "collapsed": true,
    "run_control": {
     "frozen": false,
     "read_only": false
    }
   },
   "outputs": [],
   "source": [
    "        out['AOD'] = AOD_layer[~ _np.isnan(AOD_layer)].sum()\n",
    "        out['AOD_layer'] = _pd.DataFrame(AOD_layer, index=sdls.layercenters, columns=['AOD per Layer'])\n",
    "        out['AOD_cum'] = out['AOD_layer'].iloc[::-1].cumsum().iloc[::-1]"
   ]
  },
  {
   "cell_type": "code",
   "execution_count": null,
   "metadata": {
    "collapsed": true,
    "run_control": {
     "frozen": false,
     "read_only": false
    }
   },
   "outputs": [],
   "source": [
    "layerThickness = sd.layerbounderies[i][1] - sd.layerbounderies[i][0]\n",
    "AOD_perBin = extinction_coefficient * layerThickness\n",
    "AOD_layer[i] = AOD_perBin.values.sum()"
   ]
  },
  {
   "cell_type": "code",
   "execution_count": 49,
   "metadata": {
    "ExecuteTime": {
     "end_time": "2016-12-27T16:37:31.837585",
     "start_time": "2016-12-27T16:37:31.812819"
    },
    "collapsed": false,
    "run_control": {
     "frozen": false,
     "read_only": false
    }
   },
   "outputs": [
    {
     "data": {
      "text/html": [
       "<div>\n",
       "<table border=\"1\" class=\"dataframe\">\n",
       "  <thead>\n",
       "    <tr style=\"text-align: right;\">\n",
       "      <th></th>\n",
       "      <th>aod</th>\n",
       "    </tr>\n",
       "  </thead>\n",
       "  <tbody>\n",
       "    <tr>\n",
       "      <th>5970.0</th>\n",
       "      <td>2.552018e-12</td>\n",
       "    </tr>\n",
       "    <tr>\n",
       "      <th>5910.0</th>\n",
       "      <td>1.185391e-11</td>\n",
       "    </tr>\n",
       "    <tr>\n",
       "      <th>5850.0</th>\n",
       "      <td>4.442911e-11</td>\n",
       "    </tr>\n",
       "    <tr>\n",
       "      <th>5790.0</th>\n",
       "      <td>1.540343e-10</td>\n",
       "    </tr>\n",
       "    <tr>\n",
       "      <th>5730.0</th>\n",
       "      <td>5.083605e-10</td>\n",
       "    </tr>\n",
       "    <tr>\n",
       "      <th>5670.0</th>\n",
       "      <td>1.608895e-09</td>\n",
       "    </tr>\n",
       "    <tr>\n",
       "      <th>5610.0</th>\n",
       "      <td>4.893115e-09</td>\n",
       "    </tr>\n",
       "    <tr>\n",
       "      <th>5550.0</th>\n",
       "      <td>1.430961e-08</td>\n",
       "    </tr>\n",
       "    <tr>\n",
       "      <th>5490.0</th>\n",
       "      <td>4.024986e-08</td>\n",
       "    </tr>\n",
       "    <tr>\n",
       "      <th>5430.0</th>\n",
       "      <td>1.089073e-07</td>\n",
       "    </tr>\n",
       "    <tr>\n",
       "      <th>5370.0</th>\n",
       "      <td>2.835012e-07</td>\n",
       "    </tr>\n",
       "    <tr>\n",
       "      <th>5310.0</th>\n",
       "      <td>7.100795e-07</td>\n",
       "    </tr>\n",
       "    <tr>\n",
       "      <th>5250.0</th>\n",
       "      <td>1.711454e-06</td>\n",
       "    </tr>\n",
       "    <tr>\n",
       "      <th>5190.0</th>\n",
       "      <td>3.969969e-06</td>\n",
       "    </tr>\n",
       "    <tr>\n",
       "      <th>5130.0</th>\n",
       "      <td>8.864120e-06</td>\n",
       "    </tr>\n",
       "    <tr>\n",
       "      <th>5070.0</th>\n",
       "      <td>1.905379e-05</td>\n",
       "    </tr>\n",
       "    <tr>\n",
       "      <th>5010.0</th>\n",
       "      <td>3.943691e-05</td>\n",
       "    </tr>\n",
       "    <tr>\n",
       "      <th>4950.0</th>\n",
       "      <td>7.861199e-05</td>\n",
       "    </tr>\n",
       "    <tr>\n",
       "      <th>4890.0</th>\n",
       "      <td>1.509518e-04</td>\n",
       "    </tr>\n",
       "    <tr>\n",
       "      <th>4830.0</th>\n",
       "      <td>2.792949e-04</td>\n",
       "    </tr>\n",
       "    <tr>\n",
       "      <th>4770.0</th>\n",
       "      <td>4.980692e-04</td>\n",
       "    </tr>\n",
       "    <tr>\n",
       "      <th>4710.0</th>\n",
       "      <td>8.563704e-04</td>\n",
       "    </tr>\n",
       "    <tr>\n",
       "      <th>4650.0</th>\n",
       "      <td>1.420175e-03</td>\n",
       "    </tr>\n",
       "    <tr>\n",
       "      <th>4590.0</th>\n",
       "      <td>2.272562e-03</td>\n",
       "    </tr>\n",
       "    <tr>\n",
       "      <th>4530.0</th>\n",
       "      <td>3.510712e-03</td>\n",
       "    </tr>\n",
       "    <tr>\n",
       "      <th>4470.0</th>\n",
       "      <td>5.238691e-03</td>\n",
       "    </tr>\n",
       "    <tr>\n",
       "      <th>4410.0</th>\n",
       "      <td>7.555719e-03</td>\n",
       "    </tr>\n",
       "    <tr>\n",
       "      <th>4350.0</th>\n",
       "      <td>1.054078e-02</td>\n",
       "    </tr>\n",
       "    <tr>\n",
       "      <th>4290.0</th>\n",
       "      <td>1.423567e-02</td>\n",
       "    </tr>\n",
       "    <tr>\n",
       "      <th>4230.0</th>\n",
       "      <td>1.862987e-02</td>\n",
       "    </tr>\n",
       "    <tr>\n",
       "      <th>...</th>\n",
       "      <td>...</td>\n",
       "    </tr>\n",
       "    <tr>\n",
       "      <th>1770.0</th>\n",
       "      <td>7.388802e-02</td>\n",
       "    </tr>\n",
       "    <tr>\n",
       "      <th>1710.0</th>\n",
       "      <td>7.388802e-02</td>\n",
       "    </tr>\n",
       "    <tr>\n",
       "      <th>1650.0</th>\n",
       "      <td>7.388802e-02</td>\n",
       "    </tr>\n",
       "    <tr>\n",
       "      <th>1590.0</th>\n",
       "      <td>7.388802e-02</td>\n",
       "    </tr>\n",
       "    <tr>\n",
       "      <th>1530.0</th>\n",
       "      <td>7.388802e-02</td>\n",
       "    </tr>\n",
       "    <tr>\n",
       "      <th>1470.0</th>\n",
       "      <td>7.388802e-02</td>\n",
       "    </tr>\n",
       "    <tr>\n",
       "      <th>1410.0</th>\n",
       "      <td>7.388802e-02</td>\n",
       "    </tr>\n",
       "    <tr>\n",
       "      <th>1350.0</th>\n",
       "      <td>7.388802e-02</td>\n",
       "    </tr>\n",
       "    <tr>\n",
       "      <th>1290.0</th>\n",
       "      <td>7.388802e-02</td>\n",
       "    </tr>\n",
       "    <tr>\n",
       "      <th>1230.0</th>\n",
       "      <td>7.388802e-02</td>\n",
       "    </tr>\n",
       "    <tr>\n",
       "      <th>1170.0</th>\n",
       "      <td>7.388802e-02</td>\n",
       "    </tr>\n",
       "    <tr>\n",
       "      <th>1110.0</th>\n",
       "      <td>7.388802e-02</td>\n",
       "    </tr>\n",
       "    <tr>\n",
       "      <th>1050.0</th>\n",
       "      <td>7.388803e-02</td>\n",
       "    </tr>\n",
       "    <tr>\n",
       "      <th>990.0</th>\n",
       "      <td>7.388806e-02</td>\n",
       "    </tr>\n",
       "    <tr>\n",
       "      <th>930.0</th>\n",
       "      <td>7.388861e-02</td>\n",
       "    </tr>\n",
       "    <tr>\n",
       "      <th>870.0</th>\n",
       "      <td>7.389469e-02</td>\n",
       "    </tr>\n",
       "    <tr>\n",
       "      <th>810.0</th>\n",
       "      <td>7.394146e-02</td>\n",
       "    </tr>\n",
       "    <tr>\n",
       "      <th>750.0</th>\n",
       "      <td>7.419239e-02</td>\n",
       "    </tr>\n",
       "    <tr>\n",
       "      <th>690.0</th>\n",
       "      <td>7.513174e-02</td>\n",
       "    </tr>\n",
       "    <tr>\n",
       "      <th>630.0</th>\n",
       "      <td>7.758501e-02</td>\n",
       "    </tr>\n",
       "    <tr>\n",
       "      <th>570.0</th>\n",
       "      <td>8.205518e-02</td>\n",
       "    </tr>\n",
       "    <tr>\n",
       "      <th>510.0</th>\n",
       "      <td>8.773787e-02</td>\n",
       "    </tr>\n",
       "    <tr>\n",
       "      <th>450.0</th>\n",
       "      <td>9.277797e-02</td>\n",
       "    </tr>\n",
       "    <tr>\n",
       "      <th>390.0</th>\n",
       "      <td>9.589670e-02</td>\n",
       "    </tr>\n",
       "    <tr>\n",
       "      <th>330.0</th>\n",
       "      <td>9.724309e-02</td>\n",
       "    </tr>\n",
       "    <tr>\n",
       "      <th>270.0</th>\n",
       "      <td>9.764861e-02</td>\n",
       "    </tr>\n",
       "    <tr>\n",
       "      <th>210.0</th>\n",
       "      <td>9.773383e-02</td>\n",
       "    </tr>\n",
       "    <tr>\n",
       "      <th>150.0</th>\n",
       "      <td>9.774632e-02</td>\n",
       "    </tr>\n",
       "    <tr>\n",
       "      <th>90.0</th>\n",
       "      <td>9.774760e-02</td>\n",
       "    </tr>\n",
       "    <tr>\n",
       "      <th>30.0</th>\n",
       "      <td>9.774769e-02</td>\n",
       "    </tr>\n",
       "  </tbody>\n",
       "</table>\n",
       "<p>100 rows × 1 columns</p>\n",
       "</div>"
      ],
      "text/plain": [
       "                 aod\n",
       "5970.0  2.552018e-12\n",
       "5910.0  1.185391e-11\n",
       "5850.0  4.442911e-11\n",
       "5790.0  1.540343e-10\n",
       "5730.0  5.083605e-10\n",
       "5670.0  1.608895e-09\n",
       "5610.0  4.893115e-09\n",
       "5550.0  1.430961e-08\n",
       "5490.0  4.024986e-08\n",
       "5430.0  1.089073e-07\n",
       "5370.0  2.835012e-07\n",
       "5310.0  7.100795e-07\n",
       "5250.0  1.711454e-06\n",
       "5190.0  3.969969e-06\n",
       "5130.0  8.864120e-06\n",
       "5070.0  1.905379e-05\n",
       "5010.0  3.943691e-05\n",
       "4950.0  7.861199e-05\n",
       "4890.0  1.509518e-04\n",
       "4830.0  2.792949e-04\n",
       "4770.0  4.980692e-04\n",
       "4710.0  8.563704e-04\n",
       "4650.0  1.420175e-03\n",
       "4590.0  2.272562e-03\n",
       "4530.0  3.510712e-03\n",
       "4470.0  5.238691e-03\n",
       "4410.0  7.555719e-03\n",
       "4350.0  1.054078e-02\n",
       "4290.0  1.423567e-02\n",
       "4230.0  1.862987e-02\n",
       "...              ...\n",
       "1770.0  7.388802e-02\n",
       "1710.0  7.388802e-02\n",
       "1650.0  7.388802e-02\n",
       "1590.0  7.388802e-02\n",
       "1530.0  7.388802e-02\n",
       "1470.0  7.388802e-02\n",
       "1410.0  7.388802e-02\n",
       "1350.0  7.388802e-02\n",
       "1290.0  7.388802e-02\n",
       "1230.0  7.388802e-02\n",
       "1170.0  7.388802e-02\n",
       "1110.0  7.388802e-02\n",
       "1050.0  7.388803e-02\n",
       "990.0   7.388806e-02\n",
       "930.0   7.388861e-02\n",
       "870.0   7.389469e-02\n",
       "810.0   7.394146e-02\n",
       "750.0   7.419239e-02\n",
       "690.0   7.513174e-02\n",
       "630.0   7.758501e-02\n",
       "570.0   8.205518e-02\n",
       "510.0   8.773787e-02\n",
       "450.0   9.277797e-02\n",
       "390.0   9.589670e-02\n",
       "330.0   9.724309e-02\n",
       "270.0   9.764861e-02\n",
       "210.0   9.773383e-02\n",
       "150.0   9.774632e-02\n",
       "90.0    9.774760e-02\n",
       "30.0    9.774769e-02\n",
       "\n",
       "[100 rows x 1 columns]"
      ]
     },
     "execution_count": 49,
     "metadata": {},
     "output_type": "execute_result"
    }
   ],
   "source": [
    "layerthickness = sd.layerbounderies[:,1] - sd.layerbounderies[:,0]\n",
    "aod_per_bin_per_layer = sd.optical_properties.extinction_coeff_per_bin.multiply(layerthickness, axis=0)\n",
    "aod_per_layer = pd.DataFrame(aod_per_bin_per_layer.sum(axis=1), columns= ['aod_per_layer'])\n",
    "aod = aod_per_layer.values.sum()\n",
    "aod_cumulative = aod_per_layer.iloc[::-1].cumsum()\n",
    "aod_cumulative.rename(columns={'aod_per_layer': 'aod'})"
   ]
  },
  {
   "cell_type": "code",
   "execution_count": null,
   "metadata": {
    "collapsed": true,
    "run_control": {
     "frozen": false,
     "read_only": false
    }
   },
   "outputs": [],
   "source": []
  },
  {
   "cell_type": "code",
   "execution_count": 6,
   "metadata": {
    "ExecuteTime": {
     "end_time": "2016-12-27T16:09:55.010788",
     "start_time": "2016-12-27T16:09:55.005480"
    },
    "collapsed": false,
    "run_control": {
     "frozen": false,
     "read_only": false
    }
   },
   "outputs": [
    {
     "data": {
      "text/plain": [
       "dict_keys(['parent_type', 'index_of_refraction', 'absCoeff_perrow_perbin', 'scattCoeff_perrow_perbin', 'angular_scatt_func', 'wavelength', 'bins', 'bin_centers', 'extCoeff_perrow_perbin', 'asymmetry_param', 'binwidth', 'distType'])"
      ]
     },
     "execution_count": 6,
     "metadata": {},
     "output_type": "execute_result"
    }
   ],
   "source": [
    "sd.optical_properties._optical_porperties.keys()"
   ]
  },
  {
   "cell_type": "code",
   "execution_count": 35,
   "metadata": {
    "ExecuteTime": {
     "end_time": "2016-12-21T07:21:19.688638",
     "start_time": "2016-12-21T07:21:19.641362"
    },
    "collapsed": true,
    "run_control": {
     "frozen": true,
     "read_only": true
    }
   },
   "outputs": [],
   "source": [
    "fname = './test_data/aerosols_size_dist_LS_optprop.nc'\n",
    "sd.optical_properties.aerosol_optical_depth_cumulative_VP.save_netCDF(fname)"
   ]
  },
  {
   "cell_type": "markdown",
   "metadata": {},
   "source": [
    "### hygroscopic growth transition"
   ]
  },
  {
   "cell_type": "code",
   "execution_count": 1,
   "metadata": {
    "ExecuteTime": {
     "end_time": "2017-01-09T09:03:36.409309",
     "start_time": "2017-01-09T09:03:36.013007"
    },
    "collapsed": false,
    "run_control": {
     "frozen": false,
     "read_only": false
    }
   },
   "outputs": [],
   "source": [
    "from atmPy.unit_testing import nose_tests\n",
    "from atmPy.general import vertical_profile\n",
    "import atmPy\n",
    "%matplotlib inline\n",
    "# nose_tests.size_distribution.sizedistribution.settings"
   ]
  },
  {
   "cell_type": "code",
   "execution_count": 2,
   "metadata": {
    "ExecuteTime": {
     "end_time": "2017-01-09T09:03:37.132872",
     "start_time": "2017-01-09T09:03:36.411751"
    },
    "collapsed": true,
    "run_control": {
     "frozen": false,
     "read_only": false
    }
   },
   "outputs": [],
   "source": [
    "# use the same dist_LS as in test_opt_prop_LS\n",
    "sdto = nose_tests.SizeDistTest()\n",
    "sdto.test_opt_prop_LS()"
   ]
  },
  {
   "cell_type": "code",
   "execution_count": 3,
   "metadata": {
    "ExecuteTime": {
     "end_time": "2017-01-09T09:04:13.335056",
     "start_time": "2017-01-09T09:03:37.137867"
    },
    "collapsed": false,
    "run_control": {
     "frozen": false,
     "read_only": false
    }
   },
   "outputs": [],
   "source": [
    "sdto.test_growth_opt_propLS()"
   ]
  },
  {
   "cell_type": "code",
   "execution_count": 4,
   "metadata": {
    "ExecuteTime": {
     "end_time": "2017-01-09T09:01:57.381227",
     "start_time": "2017-01-09T09:01:57.374153"
    },
    "collapsed": true,
    "run_control": {
     "frozen": false,
     "read_only": false
    }
   },
   "outputs": [],
   "source": [
    "# generate some RH which we can put into the housekeeping\n",
    "hk = pd.DataFrame(index = sdto.sizedistributionLS.data.index, columns=['Relative_humidity'])\n",
    "hk['Relative_humidity'] = 90\n",
    "hk = vertical_profile.VerticalProfile(hk)\n",
    "sdto.sizedistributionLS.housekeeping = hk\n",
    "\n",
    "# let it grow\n",
    "sdto.sizedistributionLS.hygroscopicity.parameters.kappa = 0.7\n",
    "distg = sdto.sizedistributionLS.hygroscopicity.grown_size_distribution"
   ]
  },
  {
   "cell_type": "code",
   "execution_count": 5,
   "metadata": {
    "ExecuteTime": {
     "end_time": "2017-01-09T09:02:09.250152",
     "start_time": "2017-01-09T09:02:08.588131"
    },
    "collapsed": false,
    "run_control": {
     "frozen": false,
     "read_only": false
    }
   },
   "outputs": [
    {
     "ename": "AttributeError",
     "evalue": "'SizeDist_LS' object has no attribute '_growth_factor'",
     "output_type": "error",
     "traceback": [
      "\u001b[0;31m---------------------------------------------------------------------------\u001b[0m",
      "\u001b[0;31mAttributeError\u001b[0m                            Traceback (most recent call last)",
      "\u001b[0;32m<ipython-input-5-9ad3d3835f30>\u001b[0m in \u001b[0;36m<module>\u001b[0;34m()\u001b[0m\n\u001b[1;32m      1\u001b[0m \u001b[0;31m# let it grow\u001b[0m\u001b[0;34m\u001b[0m\u001b[0;34m\u001b[0m\u001b[0m\n\u001b[1;32m      2\u001b[0m \u001b[0msdto\u001b[0m\u001b[0;34m.\u001b[0m\u001b[0msizedistributionLS\u001b[0m\u001b[0;34m.\u001b[0m\u001b[0mhygroscopicity\u001b[0m\u001b[0;34m.\u001b[0m\u001b[0mparameters\u001b[0m\u001b[0;34m.\u001b[0m\u001b[0mkappa\u001b[0m \u001b[0;34m=\u001b[0m \u001b[0;36m0.7\u001b[0m\u001b[0;34m\u001b[0m\u001b[0m\n\u001b[0;32m----> 3\u001b[0;31m \u001b[0mdistg\u001b[0m \u001b[0;34m=\u001b[0m \u001b[0msdto\u001b[0m\u001b[0;34m.\u001b[0m\u001b[0msizedistributionLS\u001b[0m\u001b[0;34m.\u001b[0m\u001b[0mhygroscopicity\u001b[0m\u001b[0;34m.\u001b[0m\u001b[0mgrown_size_distribution\u001b[0m\u001b[0;34m\u001b[0m\u001b[0m\n\u001b[0m\u001b[1;32m      4\u001b[0m \u001b[0;34m\u001b[0m\u001b[0m\n\u001b[1;32m      5\u001b[0m \u001b[0;31m# load the test data\u001b[0m\u001b[0;34m\u001b[0m\u001b[0;34m\u001b[0m\u001b[0m\n",
      "\u001b[0;32m/Users/htelg/prog/atm-py/atmPy/aerosols/physics/hygroscopicity.py\u001b[0m in \u001b[0;36mgrown_size_distribution\u001b[0;34m(self)\u001b[0m\n\u001b[1;32m    566\u001b[0m     \u001b[0;32mdef\u001b[0m \u001b[0mgrown_size_distribution\u001b[0m\u001b[0;34m(\u001b[0m\u001b[0mself\u001b[0m\u001b[0;34m)\u001b[0m\u001b[0;34m:\u001b[0m\u001b[0;34m\u001b[0m\u001b[0m\n\u001b[1;32m    567\u001b[0m         \u001b[0;32mif\u001b[0m \u001b[0;32mnot\u001b[0m \u001b[0mself\u001b[0m\u001b[0;34m.\u001b[0m\u001b[0m_grown_size_distribution\u001b[0m\u001b[0;34m:\u001b[0m\u001b[0;34m\u001b[0m\u001b[0m\n\u001b[0;32m--> 568\u001b[0;31m             \u001b[0mself\u001b[0m\u001b[0;34m.\u001b[0m\u001b[0m_grown_size_distribution\u001b[0m \u001b[0;34m=\u001b[0m \u001b[0mself\u001b[0m\u001b[0;34m.\u001b[0m\u001b[0m_parent_sizedist\u001b[0m\u001b[0;34m.\u001b[0m\u001b[0mapply_hygro_growth\u001b[0m\u001b[0;34m(\u001b[0m\u001b[0mself\u001b[0m\u001b[0;34m.\u001b[0m\u001b[0mparameters\u001b[0m\u001b[0;34m.\u001b[0m\u001b[0mkappa\u001b[0m\u001b[0;34m.\u001b[0m\u001b[0mvalue\u001b[0m\u001b[0;34m,\u001b[0m \u001b[0mself\u001b[0m\u001b[0;34m.\u001b[0m\u001b[0mparameters\u001b[0m\u001b[0;34m.\u001b[0m\u001b[0mRH\u001b[0m\u001b[0;34m.\u001b[0m\u001b[0mvalue\u001b[0m\u001b[0;34m)\u001b[0m\u001b[0;34m\u001b[0m\u001b[0m\n\u001b[0m\u001b[1;32m    569\u001b[0m         \u001b[0;32mreturn\u001b[0m \u001b[0mself\u001b[0m\u001b[0;34m.\u001b[0m\u001b[0m_grown_size_distribution\u001b[0m\u001b[0;34m\u001b[0m\u001b[0m\n\u001b[1;32m    570\u001b[0m \u001b[0;34m\u001b[0m\u001b[0m\n",
      "\u001b[0;32m/Users/htelg/prog/atm-py/atmPy/aerosols/size_distribution/sizedistribution.py\u001b[0m in \u001b[0;36mapply_hygro_growth\u001b[0;34m(self, kappa, RH, how)\u001b[0m\n\u001b[1;32m   2229\u001b[0m         \u001b[0msd_LS\u001b[0m\u001b[0;34m.\u001b[0m\u001b[0mparameters4reductions\u001b[0m\u001b[0;34m.\u001b[0m\u001b[0mrefractive_index\u001b[0m \u001b[0;34m=\u001b[0m \u001b[0msd\u001b[0m\u001b[0;34m.\u001b[0m\u001b[0mparameters4reductions\u001b[0m\u001b[0;34m.\u001b[0m\u001b[0mrefractive_index\u001b[0m\u001b[0;34m\u001b[0m\u001b[0m\n\u001b[1;32m   2230\u001b[0m         \u001b[0msd_LS\u001b[0m\u001b[0;34m.\u001b[0m\u001b[0mparameters4reductions\u001b[0m\u001b[0;34m.\u001b[0m\u001b[0mwavelength\u001b[0m \u001b[0;34m=\u001b[0m \u001b[0msd\u001b[0m\u001b[0;34m.\u001b[0m\u001b[0mparameters4reductions\u001b[0m\u001b[0;34m.\u001b[0m\u001b[0mwavelength\u001b[0m\u001b[0;34m\u001b[0m\u001b[0m\n\u001b[0;32m-> 2231\u001b[0;31m         \u001b[0msd_LS\u001b[0m\u001b[0;34m.\u001b[0m\u001b[0m_SizeDist_growth_factor\u001b[0m \u001b[0;34m=\u001b[0m \u001b[0msd\u001b[0m\u001b[0;34m.\u001b[0m\u001b[0mgrowth_factor\u001b[0m\u001b[0;34m\u001b[0m\u001b[0m\n\u001b[0m\u001b[1;32m   2232\u001b[0m         \u001b[0;31m# out['size_distribution'] = sd_LS\u001b[0m\u001b[0;34m\u001b[0m\u001b[0;34m\u001b[0m\u001b[0m\n\u001b[1;32m   2233\u001b[0m         \u001b[0;32mreturn\u001b[0m \u001b[0msd_LS\u001b[0m\u001b[0;34m\u001b[0m\u001b[0m\n",
      "\u001b[0;32m/Users/htelg/prog/atm-py/atmPy/aerosols/size_distribution/sizedistribution.py\u001b[0m in \u001b[0;36mgrowth_factor\u001b[0;34m(self)\u001b[0m\n\u001b[1;32m    809\u001b[0m     \u001b[0;34m@\u001b[0m\u001b[0mproperty\u001b[0m\u001b[0;34m\u001b[0m\u001b[0m\n\u001b[1;32m    810\u001b[0m     \u001b[0;32mdef\u001b[0m \u001b[0mgrowth_factor\u001b[0m\u001b[0;34m(\u001b[0m\u001b[0mself\u001b[0m\u001b[0;34m)\u001b[0m\u001b[0;34m:\u001b[0m\u001b[0;34m\u001b[0m\u001b[0m\n\u001b[0;32m--> 811\u001b[0;31m         \u001b[0;32mreturn\u001b[0m \u001b[0mself\u001b[0m\u001b[0;34m.\u001b[0m\u001b[0m_growth_factor\u001b[0m\u001b[0;34m\u001b[0m\u001b[0m\n\u001b[0m\u001b[1;32m    812\u001b[0m \u001b[0;34m\u001b[0m\u001b[0m\n\u001b[1;32m    813\u001b[0m     \u001b[0;34m@\u001b[0m\u001b[0mproperty\u001b[0m\u001b[0;34m\u001b[0m\u001b[0m\n",
      "\u001b[0;31mAttributeError\u001b[0m: 'SizeDist_LS' object has no attribute '_growth_factor'"
     ]
    }
   ],
   "source": [
    "# load the test data\n",
    "fname = './test_data/aerosols_size_dist_LS_hyg_growth_optprop.nc'\n",
    "aodcs = atmPy.read_file.netCDF(fname)\n",
    "\n",
    "threshold = distg.optical_properties.aod_cumulative.data.values.sum() * 1e-5\n",
    "\n",
    "res = np.abs(distg.optical_properties.aod_cumulative.data.values\n",
    " - aodcs.data.values).sum() < threshold\n",
    "print(np.abs(distg.optical_properties.aod_cumulative.data.values\n",
    " - aodcs.data.values).sum() , threshold), res"
   ]
  },
  {
   "cell_type": "code",
   "execution_count": 10,
   "metadata": {
    "ExecuteTime": {
     "end_time": "2016-12-23T18:03:58.086700",
     "start_time": "2016-12-23T18:03:57.875837"
    },
    "collapsed": true,
    "run_control": {
     "frozen": true,
     "read_only": true
    }
   },
   "outputs": [],
   "source": [
    "fname = './test_data/aerosols_size_dist_LS_hyg_growth_optprop.nc'\n",
    "distg.optical_properties.aerosol_optical_depth_cumulative_VP.save_netCDF(fname)"
   ]
  },
  {
   "cell_type": "markdown",
   "metadata": {},
   "source": [
    "## physics"
   ]
  },
  {
   "cell_type": "markdown",
   "metadata": {},
   "source": [
    "### hygroscopicity"
   ]
  },
  {
   "cell_type": "markdown",
   "metadata": {},
   "source": [
    "#### growth_factor_distribution"
   ]
  },
  {
   "cell_type": "code",
   "execution_count": 3,
   "metadata": {
    "ExecuteTime": {
     "end_time": "2017-01-09T09:11:29.611988",
     "start_time": "2017-01-09T09:11:29.599806"
    },
    "collapsed": true,
    "run_control": {
     "frozen": false,
     "read_only": false
    }
   },
   "outputs": [],
   "source": [
    "from atmPy.aerosols.physics import hygroscopicity as hyg\n",
    "from atmPy.data_archives import arm\n",
    "from atmPy.unit_testing import nose_tests"
   ]
  },
  {
   "cell_type": "code",
   "execution_count": 4,
   "metadata": {
    "ExecuteTime": {
     "end_time": "2017-01-09T09:11:30.155056",
     "start_time": "2017-01-09T09:11:30.151377"
    },
    "collapsed": false,
    "run_control": {
     "frozen": false,
     "read_only": false
    }
   },
   "outputs": [],
   "source": [
    "sdto = nose_tests.PhysicsHygroscopicityTest()"
   ]
  },
  {
   "cell_type": "code",
   "execution_count": 5,
   "metadata": {
    "ExecuteTime": {
     "end_time": "2017-01-09T09:11:32.366024",
     "start_time": "2017-01-09T09:11:31.344069"
    },
    "collapsed": false,
    "run_control": {
     "frozen": false,
     "read_only": false
    }
   },
   "outputs": [],
   "source": [
    "sdto.test_hygroscopic_growth_factor_distributions()"
   ]
  },
  {
   "cell_type": "code",
   "execution_count": 14,
   "metadata": {
    "ExecuteTime": {
     "end_time": "2017-01-09T09:09:30.627809",
     "start_time": "2017-01-09T09:09:29.206434"
    },
    "collapsed": false,
    "run_control": {
     "frozen": false,
     "read_only": false
    }
   },
   "outputs": [
    {
     "name": "stdout",
     "output_type": "stream",
     "text": [
      "0.00013942675005562856 0.00028999998226984477 True\n",
      "1.0720131907726582e-06 1.0701970171113901e-05 True\n",
      "1.46980131315e-05 2.3521201654915003e-05 True\n"
     ]
    },
    {
     "name": "stderr",
     "output_type": "stream",
     "text": [
      "/opt/local/Library/Frameworks/Python.framework/Versions/3.5/lib/python3.5/site-packages/matplotlib/colors.py:581: RuntimeWarning: invalid value encountered in less\n",
      "  cbook._putmask(xa, xa < 0.0, -1)\n"
     ]
    },
    {
     "data": {
      "image/png": "[encoded data removed]",
      "text/plain": [
       "<matplotlib.figure.Figure at 0x10d5b77f0>"
      ]
     },
     "metadata": {},
     "output_type": "display_data"
    }
   ],
   "source": [
    "fname = './test_data/sgptdmahygC1.b1.20120601.004227.cdf'\n",
    "out = arm.read_netCDF(fname, data_quality= 'patchy', leave_cdf_open= False)\n",
    "hgfd = hyg.HygroscopicGrowthFactorDistributions(out.hyg_distributions.data.loc[:,200.0,:].transpose())\n",
    "hgfd.plot()\n",
    "\n",
    "fname = './test_data/aerosols_physics_hygroscopicity_growth_mode.csv'\n",
    "growth_mode_soll = pd.read_csv(fname, index_col=0)\n",
    "\n",
    "threshold = growth_mode_soll.ratio.sum() * 1e-5\n",
    "res = np.abs(hgfd.growth_modes_gf.ratio - growth_mode_soll.ratio).sum() < threshold\n",
    "print(np.abs(hgfd.growth_modes_gf.ratio - growth_mode_soll.ratio).sum(), threshold, res)\n",
    "\n",
    "threshold = growth_mode_soll.gf.sum() * 1e-7\n",
    "res = np.abs(hgfd.growth_modes_gf.gf - growth_mode_soll.gf).sum()< threshold\n",
    "print(np.abs(hgfd.growth_modes_gf.gf - growth_mode_soll.gf).sum(), threshold, res)\n",
    "\n",
    "#######\n",
    "fname = './test_data/aerosols_physics_hygroscopicity_mixing_state.csv'\n",
    "mixing_state_soll = pd.read_csv(fname, index_col=0)\n",
    "\n",
    "threshold = mixing_state_soll.mixing_state.sum() * 1e-6\n",
    "res = np.abs(hgfd.mixing_state.mixing_state - mixing_state_soll.mixing_state).sum() < threshold\n",
    "print(np.abs(hgfd.mixing_state.mixing_state - mixing_state_soll.mixing_state).sum(), threshold, res)"
   ]
  },
  {
   "cell_type": "code",
   "execution_count": 183,
   "metadata": {
    "ExecuteTime": {
     "end_time": "2016-12-22T17:48:35.686939",
     "start_time": "2016-12-22T17:48:35.642518"
    },
    "collapsed": false,
    "run_control": {
     "frozen": true,
     "read_only": true
    }
   },
   "outputs": [],
   "source": [
    "fname = './test_data/aerosols_physics_hygroscopicity_growth_mode.csv'\n",
    "hgfd.growth_modes.to_csv(fname)"
   ]
  },
  {
   "cell_type": "code",
   "execution_count": 184,
   "metadata": {
    "ExecuteTime": {
     "end_time": "2016-12-22T17:49:29.714369",
     "start_time": "2016-12-22T17:49:29.673858"
    },
    "collapsed": true,
    "run_control": {
     "frozen": true,
     "read_only": true
    }
   },
   "outputs": [],
   "source": [
    "fname = './test_data/aerosols_physics_hygroscopicity_mixing_state.csv'\n",
    "hgfd.mixing_state.to_csv(fname)"
   ]
  }
 ],
 "metadata": {
  "hide_input": false,
  "kernelspec": {
   "display_name": "Python 3",
   "language": "python",
   "name": "python3"
  },
  "language_info": {
   "codemirror_mode": {
    "name": "ipython",
    "version": 3
   },
   "file_extension": ".py",
   "mimetype": "text/x-python",
   "name": "python",
   "nbconvert_exporter": "python",
   "pygments_lexer": "ipython3",
   "version": "3.5.3"
  },
  "nav_menu": {},
  "toc": {
   "navigate_menu": true,
   "number_sections": true,
   "sideBar": true,
   "threshold": 6,
   "toc_cell": false,
   "toc_section_display": "block",
   "toc_window_display": true
  }
 },
 "nbformat": 4,
 "nbformat_minor": 0
}
