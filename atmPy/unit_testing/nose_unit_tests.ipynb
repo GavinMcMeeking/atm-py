{
 "cells": [
  {
   "cell_type": "code",
   "execution_count": 1,
   "metadata": {
    "ExecuteTime": {
     "end_time": "2016-12-20T17:31:15.142177",
     "start_time": "2016-12-20T17:31:14.530656"
    },
    "collapsed": true,
    "run_control": {
     "frozen": false,
     "read_only": false
    }
   },
   "outputs": [],
   "source": [
    "import nose_tests"
   ]
  },
  {
   "cell_type": "code",
   "execution_count": null,
   "metadata": {
    "collapsed": true,
    "run_control": {
     "frozen": false,
     "read_only": false
    }
   },
   "outputs": [],
   "source": []
  },
  {
   "cell_type": "code",
   "execution_count": 197,
   "metadata": {
    "ExecuteTime": {
     "end_time": "2016-05-20T13:33:22.890220",
     "start_time": "2016-05-20T13:33:22.756154"
    },
    "collapsed": false,
    "run_control": {
     "frozen": false,
     "read_only": false
    }
   },
   "outputs": [
    {
     "name": "stdout",
     "output_type": "stream",
     "text": [
      "total 40\r\n",
      "-rw-r--r--+  1 htelg  1330471208  1998 Feb 10 11:54 HACKTHIS.md\r\n",
      "-rw-r--r--+  1 htelg  1330471208  1079 Feb  8 11:29 LICENSE\r\n",
      "-rw-r--r--+  1 htelg  1330471208   419 Feb  8 11:29 README.md\r\n",
      "drwxr-xr-x+ 13 htelg  1330471208   442 May 20 10:14 \u001b[34matmPy\u001b[m\u001b[m/\r\n",
      "drwxr-xr-x+ 26 htelg  1330471208   884 May 20 09:31 \u001b[34mexamples\u001b[m\u001b[m/\r\n",
      "-rw-r--r--+  1 htelg  1330471208   260 Feb  8 11:29 setup.py\r\n",
      "-rw-r--r--+  1 htelg  1330471208  1301 May 20 13:31 testresults.log\r\n",
      "drwxr-xr-x+ 11 htelg  1330471208   374 May 20 13:31 \u001b[34munit_testing\u001b[m\u001b[m/\r\n"
     ]
    }
   ],
   "source": [
    "ll"
   ]
  },
  {
   "cell_type": "code",
   "execution_count": null,
   "metadata": {
    "collapsed": true,
    "run_control": {
     "frozen": false,
     "read_only": false
    }
   },
   "outputs": [],
   "source": [
    "import"
   ]
  },
  {
   "cell_type": "markdown",
   "metadata": {
    "collapsed": true
   },
   "source": [
    "# Run the test "
   ]
  },
  {
   "cell_type": "code",
   "execution_count": 59,
   "metadata": {
    "ExecuteTime": {
     "end_time": "2016-12-20T19:33:51.903556",
     "start_time": "2016-12-20T19:33:51.900223"
    },
    "collapsed": true,
    "run_control": {
     "frozen": false,
     "read_only": false
    }
   },
   "outputs": [],
   "source": [
    "from atmPy.unit_testing import run_nose_tests"
   ]
  },
  {
   "cell_type": "code",
   "execution_count": 61,
   "metadata": {
    "ExecuteTime": {
     "end_time": "2016-12-20T19:34:00.748912",
     "start_time": "2016-12-20T19:34:00.742138"
    },
    "collapsed": false
   },
   "outputs": [
    {
     "data": {
      "text/plain": [
       "<module 'atmPy.unit_testing.nose_tests' from '/Users/htelg/prog/atm-py/atmPy/unit_testing/nose_tests.py'>"
      ]
     },
     "execution_count": 61,
     "metadata": {},
     "output_type": "execute_result"
    }
   ],
   "source": [
    "reload(run_nose_tests)\n",
    "reload(nose_tests)"
   ]
  },
  {
   "cell_type": "code",
   "execution_count": 62,
   "metadata": {
    "ExecuteTime": {
     "end_time": "2016-12-20T19:34:04.633317",
     "start_time": "2016-12-20T19:34:01.771266"
    },
    "collapsed": false,
    "run_control": {
     "frozen": false,
     "read_only": false
    }
   },
   "outputs": [
    {
     "name": "stdout",
     "output_type": "stream",
     "text": [
      "['.', '----------------------------------------------------------------------', 'Ran 1 test in 0.392s', '', 'OK']\n"
     ]
    }
   ],
   "source": [
    "run_nose_tests.run()"
   ]
  },
  {
   "cell_type": "markdown",
   "metadata": {},
   "source": [
    "# data_archives"
   ]
  },
  {
   "cell_type": "markdown",
   "metadata": {},
   "source": [
    "## ARM"
   ]
  },
  {
   "cell_type": "code",
   "execution_count": 1,
   "metadata": {
    "ExecuteTime": {
     "end_time": "2016-12-20T19:50:35.939192",
     "start_time": "2016-12-20T19:50:35.486045"
    },
    "collapsed": true,
    "run_control": {
     "frozen": false,
     "read_only": false
    }
   },
   "outputs": [],
   "source": [
    "from atmPy.data_archives import arm"
   ]
  },
  {
   "cell_type": "code",
   "execution_count": 2,
   "metadata": {
    "ExecuteTime": {
     "end_time": "2016-12-20T19:50:35.947951",
     "start_time": "2016-12-20T19:50:35.941263"
    },
    "collapsed": false,
    "run_control": {
     "frozen": false,
     "read_only": false
    }
   },
   "outputs": [
    {
     "data": {
      "text/plain": [
       "dict_keys(['tdmasize', 'aipfitrh1ogrenC1', 'noaaaos', 'aosacsm', '1twr10xC1', 'tdmahyg', 'tdmaapssize'])"
      ]
     },
     "execution_count": 2,
     "metadata": {},
     "output_type": "execute_result"
    }
   ],
   "source": [
    "arm.arm_products.keys()"
   ]
  },
  {
   "cell_type": "code",
   "execution_count": 3,
   "metadata": {
    "ExecuteTime": {
     "end_time": "2016-12-20T19:50:40.340158",
     "start_time": "2016-12-20T19:50:40.336860"
    },
    "collapsed": true,
    "run_control": {
     "frozen": false,
     "read_only": false
    }
   },
   "outputs": [],
   "source": [
    "fname = './test_data/'"
   ]
  },
  {
   "cell_type": "markdown",
   "metadata": {},
   "source": [
    "### 1twr10xC1"
   ]
  },
  {
   "cell_type": "code",
   "execution_count": 4,
   "metadata": {
    "ExecuteTime": {
     "end_time": "2016-12-20T19:50:43.767656",
     "start_time": "2016-12-20T19:50:43.409900"
    },
    "collapsed": false,
    "run_control": {
     "frozen": false,
     "read_only": false
    }
   },
   "outputs": [],
   "source": [
    "# # create the test file\n",
    "out = arm.read_netCDF(fname, data_product='1twr10xC1')\n",
    "out = out['1twr10xC1']\n",
    "# out.relative_humidity.data.to_csv(fname+'1twr10xC1_rh.csv')\n",
    "# out.temperature.data.to_csv(fname+'1twr10xC1_temp.csv')\n",
    "# out.vapor_pressure.data.to_csv(fname + '1twr10xC1_p_vapor.csv')"
   ]
  },
  {
   "cell_type": "code",
   "execution_count": 73,
   "metadata": {
    "ExecuteTime": {
     "end_time": "2016-05-20T11:10:24.081412",
     "start_time": "2016-05-20T11:10:24.073840"
    },
    "collapsed": false,
    "run_control": {
     "frozen": false,
     "read_only": false
    }
   },
   "outputs": [
    {
     "data": {
      "text/plain": [
       "<module 'nose_tests' from '/Users/htelg/prog/atm-py/unit_testing/nose_tests.py'>"
      ]
     },
     "execution_count": 73,
     "metadata": {},
     "output_type": "execute_result"
    }
   ],
   "source": [
    "reload(nose_tests)"
   ]
  },
  {
   "cell_type": "code",
   "execution_count": 63,
   "metadata": {
    "ExecuteTime": {
     "end_time": "2016-12-20T19:34:16.662455",
     "start_time": "2016-12-20T19:34:16.647938"
    },
    "collapsed": false,
    "run_control": {
     "frozen": false,
     "read_only": false
    }
   },
   "outputs": [
    {
     "ename": "AttributeError",
     "evalue": "module 'atmPy.unit_testing.nose_tests' has no attribute 'test_1twr10xC1'",
     "output_type": "error",
     "traceback": [
      "\u001b[0;31m---------------------------------------------------------------------------\u001b[0m",
      "\u001b[0;31mAttributeError\u001b[0m                            Traceback (most recent call last)",
      "\u001b[0;32m<ipython-input-63-3884ff5b1795>\u001b[0m in \u001b[0;36m<module>\u001b[0;34m()\u001b[0m\n\u001b[0;32m----> 1\u001b[0;31m \u001b[0mnose_tests\u001b[0m\u001b[0;34m.\u001b[0m\u001b[0mtest_1twr10xC1\u001b[0m\u001b[0;34m(\u001b[0m\u001b[0;34m)\u001b[0m\u001b[0;34m\u001b[0m\u001b[0m\n\u001b[0m",
      "\u001b[0;31mAttributeError\u001b[0m: module 'atmPy.unit_testing.nose_tests' has no attribute 'test_1twr10xC1'"
     ]
    }
   ],
   "source": [
    "nose_tests.test_1twr10xC1()"
   ]
  },
  {
   "cell_type": "code",
   "execution_count": 9,
   "metadata": {
    "ExecuteTime": {
     "end_time": "2016-12-20T19:51:26.890982",
     "start_time": "2016-12-20T19:51:26.887227"
    },
    "collapsed": true
   },
   "outputs": [],
   "source": [
    "test_data_folder = './test_data/'"
   ]
  },
  {
   "cell_type": "code",
   "execution_count": 10,
   "metadata": {
    "ExecuteTime": {
     "end_time": "2016-12-20T19:51:27.096885",
     "start_time": "2016-12-20T19:51:27.092458"
    },
    "collapsed": true
   },
   "outputs": [],
   "source": [
    "from atmPy.data_archives import arm"
   ]
  },
  {
   "cell_type": "code",
   "execution_count": 11,
   "metadata": {
    "ExecuteTime": {
     "end_time": "2016-12-20T19:51:27.660622",
     "start_time": "2016-12-20T19:51:27.280419"
    },
    "collapsed": false
   },
   "outputs": [],
   "source": [
    "out = arm.read_netCDF(test_data_folder, data_product='1twr10xC1')\n",
    "out = out['1twr10xC1']"
   ]
  },
  {
   "cell_type": "code",
   "execution_count": 13,
   "metadata": {
    "ExecuteTime": {
     "end_time": "2016-12-20T19:51:37.725806",
     "start_time": "2016-12-20T19:51:37.713631"
    },
    "collapsed": false
   },
   "outputs": [],
   "source": [
    "# rh\n",
    "soll = pd.read_csv(test_data_folder + '1twr10xC1_rh.csv', index_col=0,\n",
    "                   dtype={'rh_25m': np.float32, 'rh_60m': np.float32}\n",
    "                   )\n",
    "# self.assertTrue(np.all(out.relative_humidity.data == soll))\n",
    "# np.all(out.relative_humidity.data.index == soll.index)"
   ]
  },
  {
   "cell_type": "code",
   "execution_count": null,
   "metadata": {
    "collapsed": true
   },
   "outputs": [],
   "source": []
  },
  {
   "cell_type": "code",
   "execution_count": null,
   "metadata": {
    "collapsed": true
   },
   "outputs": [],
   "source": []
  },
  {
   "cell_type": "code",
   "execution_count": null,
   "metadata": {
    "collapsed": true
   },
   "outputs": [],
   "source": []
  },
  {
   "cell_type": "code",
   "execution_count": 19,
   "metadata": {
    "ExecuteTime": {
     "end_time": "2016-12-20T19:53:07.223011",
     "start_time": "2016-12-20T19:53:07.211927"
    },
    "collapsed": false
   },
   "outputs": [
    {
     "data": {
      "text/plain": [
       "array([ True,  True,  True, ...,  True,  True,  True], dtype=bool)"
      ]
     },
     "execution_count": 19,
     "metadata": {},
     "output_type": "execute_result"
    }
   ],
   "source": [
    "out.relative_humidity.data.index == pd.to_datetime(soll.index)"
   ]
  },
  {
   "cell_type": "code",
   "execution_count": 16,
   "metadata": {
    "ExecuteTime": {
     "end_time": "2016-12-20T19:52:11.100754",
     "start_time": "2016-12-20T19:52:11.093937"
    },
    "collapsed": false
   },
   "outputs": [
    {
     "data": {
      "text/plain": [
       "DatetimeIndex(['2012-01-31 23:59:00', '2012-02-01 00:00:00',\n",
       "               '2012-02-01 00:01:00', '2012-02-01 00:02:00',\n",
       "               '2012-02-01 00:03:00', '2012-02-01 00:04:00',\n",
       "               '2012-02-01 00:05:00', '2012-02-01 00:06:00',\n",
       "               '2012-02-01 00:07:00', '2012-02-01 00:08:00',\n",
       "               ...\n",
       "               '2012-02-03 23:49:00', '2012-02-03 23:50:00',\n",
       "               '2012-02-03 23:51:00', '2012-02-03 23:52:00',\n",
       "               '2012-02-03 23:53:00', '2012-02-03 23:54:00',\n",
       "               '2012-02-03 23:55:00', '2012-02-03 23:56:00',\n",
       "               '2012-02-03 23:57:00', '2012-02-03 23:58:00'],\n",
       "              dtype='datetime64[ns]', name='Time', length=4320, freq=None)"
      ]
     },
     "execution_count": 16,
     "metadata": {},
     "output_type": "execute_result"
    }
   ],
   "source": [
    "out.relative_humidity.data.index"
   ]
  },
  {
   "cell_type": "code",
   "execution_count": null,
   "metadata": {
    "collapsed": true
   },
   "outputs": [],
   "source": []
  },
  {
   "cell_type": "code",
   "execution_count": null,
   "metadata": {
    "collapsed": true
   },
   "outputs": [],
   "source": []
  },
  {
   "cell_type": "code",
   "execution_count": null,
   "metadata": {
    "collapsed": true
   },
   "outputs": [],
   "source": []
  },
  {
   "cell_type": "code",
   "execution_count": null,
   "metadata": {
    "collapsed": true
   },
   "outputs": [],
   "source": []
  },
  {
   "cell_type": "code",
   "execution_count": null,
   "metadata": {
    "collapsed": true
   },
   "outputs": [],
   "source": []
  },
  {
   "cell_type": "code",
   "execution_count": null,
   "metadata": {
    "collapsed": true
   },
   "outputs": [],
   "source": []
  },
  {
   "cell_type": "code",
   "execution_count": 72,
   "metadata": {
    "ExecuteTime": {
     "end_time": "2016-12-20T19:38:16.092049",
     "start_time": "2016-12-20T19:38:16.088287"
    },
    "collapsed": false
   },
   "outputs": [],
   "source": [
    "soll.columns.name = out.relative_humidity.data.columns.name"
   ]
  },
  {
   "cell_type": "code",
   "execution_count": null,
   "metadata": {
    "collapsed": true
   },
   "outputs": [],
   "source": []
  },
  {
   "cell_type": "code",
   "execution_count": null,
   "metadata": {
    "collapsed": true
   },
   "outputs": [],
   "source": [
    "# temp\n",
    "soll = pd.read_csv(test_data_folder + '1twr10xC1_temp.csv', index_col=0,\n",
    "                   dtype={'temp_25m': np.float32, 'temp_60m': np.float32}\n",
    "                   )\n",
    "self.assertTrue(np.all(out.temperature.data == soll))\n",
    "\n",
    "# vapor pressure\n",
    "soll = pd.read_csv(test_data_folder + '1twr10xC1_p_vapor.csv', index_col=0,\n",
    "                   dtype={'vap_pres_25m': np.float32, 'vap_pres_60m': np.float32}\n",
    "                   )\n",
    "\n",
    "self.assertTrue(np.all(out.vapor_pressure.data == soll))"
   ]
  },
  {
   "cell_type": "code",
   "execution_count": null,
   "metadata": {
    "collapsed": true
   },
   "outputs": [],
   "source": []
  },
  {
   "cell_type": "code",
   "execution_count": null,
   "metadata": {
    "collapsed": true
   },
   "outputs": [],
   "source": []
  },
  {
   "cell_type": "markdown",
   "metadata": {
    "ExecuteTime": {
     "end_time": "2016-05-20T11:09:43.863352",
     "start_time": "2016-05-20T11:09:43.858524"
    },
    "collapsed": false,
    "run_control": {
     "frozen": false,
     "read_only": false
    }
   },
   "source": [
    "# Aerosols"
   ]
  },
  {
   "cell_type": "markdown",
   "metadata": {
    "collapsed": true,
    "run_control": {
     "frozen": false,
     "read_only": false
    }
   },
   "source": [
    "# sizedistribution"
   ]
  },
  {
   "cell_type": "markdown",
   "metadata": {},
   "source": [
    "# optical properties"
   ]
  },
  {
   "cell_type": "code",
   "execution_count": 8,
   "metadata": {
    "ExecuteTime": {
     "end_time": "2016-12-20T18:53:26.713128",
     "start_time": "2016-12-20T18:53:26.702966"
    },
    "collapsed": true
   },
   "outputs": [],
   "source": [
    "from atmPy.aerosols import size_distribution\n",
    "%matplotlib inline"
   ]
  },
  {
   "cell_type": "code",
   "execution_count": 58,
   "metadata": {
    "ExecuteTime": {
     "end_time": "2016-12-20T19:12:05.600704",
     "start_time": "2016-12-20T19:12:04.838841"
    },
    "collapsed": false
   },
   "outputs": [
    {
     "data": {
      "text/plain": [
       "True"
      ]
     },
     "execution_count": 58,
     "metadata": {},
     "output_type": "execute_result"
    }
   ],
   "source": [
    "sd = size_distribution.sizedistribution.simulate_sizedistribution_layerseries(diameter=[10, 2500], \n",
    "                                                                              numberOfDiameters=100, \n",
    "                                                                              heightlimits=[0, 6000], \n",
    "                                                                              noOflayers=100, \n",
    "                                                                              layerHeight=[500.0, 4000.0], \n",
    "                                                                              layerThickness=[100.0, 300.0], \n",
    "                                                                              layerDensity=[1000.0, 50.0], \n",
    "                                                                              layerModecenter=[200.0, 800.0], \n",
    "                                                                              widthOfAerosolMode=0.2)\n",
    "\n",
    "sd.optical_properties_settings.refractive_index = 1.5\n",
    "sd.optical_properties_settings.wavelength = 550\n",
    "\n",
    "fname = './test_data/aerosols_size_dist_LS_optprop.nc'\n",
    "sdl = atmPy.read_file.netCDF(fname)\n",
    "\n",
    "np.all(sd.optical_properties.aerosol_optical_depth_cumulative_VP.data == sdl.data)"
   ]
  },
  {
   "cell_type": "code",
   "execution_count": 34,
   "metadata": {
    "ExecuteTime": {
     "end_time": "2016-12-20T19:02:37.292772",
     "start_time": "2016-12-20T19:02:37.165115"
    },
    "collapsed": true,
    "run_control": {
     "frozen": true,
     "read_only": true
    }
   },
   "outputs": [],
   "source": [
    "fname = './test_data/aerosols_size_dist_LS_optprop.nc'\n",
    "sd.optical_properties.aerosol_optical_depth_cumulative_VP.save_netCDF(fname)"
   ]
  },
  {
   "cell_type": "code",
   "execution_count": 38,
   "metadata": {
    "ExecuteTime": {
     "end_time": "2016-12-20T19:03:58.095213",
     "start_time": "2016-12-20T19:03:58.078222"
    },
    "collapsed": false
   },
   "outputs": [
    {
     "data": {
      "text/html": [
       "<div>\n",
       "<table border=\"1\" class=\"dataframe\">\n",
       "  <thead>\n",
       "    <tr style=\"text-align: right;\">\n",
       "      <th></th>\n",
       "      <th>AOD per Layer</th>\n",
       "    </tr>\n",
       "  </thead>\n",
       "  <tbody>\n",
       "    <tr>\n",
       "      <th>30.0</th>\n",
       "      <td>9.573762e-02</td>\n",
       "    </tr>\n",
       "    <tr>\n",
       "      <th>90.0</th>\n",
       "      <td>9.573755e-02</td>\n",
       "    </tr>\n",
       "    <tr>\n",
       "      <th>150.0</th>\n",
       "      <td>9.573655e-02</td>\n",
       "    </tr>\n",
       "    <tr>\n",
       "      <th>210.0</th>\n",
       "      <td>9.572684e-02</td>\n",
       "    </tr>\n",
       "    <tr>\n",
       "      <th>270.0</th>\n",
       "      <td>9.566057e-02</td>\n",
       "    </tr>\n",
       "    <tr>\n",
       "      <th>330.0</th>\n",
       "      <td>9.534522e-02</td>\n",
       "    </tr>\n",
       "    <tr>\n",
       "      <th>390.0</th>\n",
       "      <td>9.429822e-02</td>\n",
       "    </tr>\n",
       "    <tr>\n",
       "      <th>450.0</th>\n",
       "      <td>9.187297e-02</td>\n",
       "    </tr>\n",
       "    <tr>\n",
       "      <th>510.0</th>\n",
       "      <td>8.795359e-02</td>\n",
       "    </tr>\n",
       "    <tr>\n",
       "      <th>570.0</th>\n",
       "      <td>8.353450e-02</td>\n",
       "    </tr>\n",
       "    <tr>\n",
       "      <th>630.0</th>\n",
       "      <td>8.005833e-02</td>\n",
       "    </tr>\n",
       "    <tr>\n",
       "      <th>690.0</th>\n",
       "      <td>7.815056e-02</td>\n",
       "    </tr>\n",
       "    <tr>\n",
       "      <th>750.0</th>\n",
       "      <td>7.742009e-02</td>\n",
       "    </tr>\n",
       "    <tr>\n",
       "      <th>810.0</th>\n",
       "      <td>7.722495e-02</td>\n",
       "    </tr>\n",
       "    <tr>\n",
       "      <th>870.0</th>\n",
       "      <td>7.718859e-02</td>\n",
       "    </tr>\n",
       "    <tr>\n",
       "      <th>930.0</th>\n",
       "      <td>7.718386e-02</td>\n",
       "    </tr>\n",
       "    <tr>\n",
       "      <th>990.0</th>\n",
       "      <td>7.718343e-02</td>\n",
       "    </tr>\n",
       "    <tr>\n",
       "      <th>1050.0</th>\n",
       "      <td>7.718340e-02</td>\n",
       "    </tr>\n",
       "    <tr>\n",
       "      <th>1110.0</th>\n",
       "      <td>7.718340e-02</td>\n",
       "    </tr>\n",
       "    <tr>\n",
       "      <th>1170.0</th>\n",
       "      <td>7.718340e-02</td>\n",
       "    </tr>\n",
       "    <tr>\n",
       "      <th>1230.0</th>\n",
       "      <td>7.718340e-02</td>\n",
       "    </tr>\n",
       "    <tr>\n",
       "      <th>1290.0</th>\n",
       "      <td>7.718340e-02</td>\n",
       "    </tr>\n",
       "    <tr>\n",
       "      <th>1350.0</th>\n",
       "      <td>7.718340e-02</td>\n",
       "    </tr>\n",
       "    <tr>\n",
       "      <th>1410.0</th>\n",
       "      <td>7.718340e-02</td>\n",
       "    </tr>\n",
       "    <tr>\n",
       "      <th>1470.0</th>\n",
       "      <td>7.718340e-02</td>\n",
       "    </tr>\n",
       "    <tr>\n",
       "      <th>1530.0</th>\n",
       "      <td>7.718340e-02</td>\n",
       "    </tr>\n",
       "    <tr>\n",
       "      <th>1590.0</th>\n",
       "      <td>7.718340e-02</td>\n",
       "    </tr>\n",
       "    <tr>\n",
       "      <th>1650.0</th>\n",
       "      <td>7.718340e-02</td>\n",
       "    </tr>\n",
       "    <tr>\n",
       "      <th>1710.0</th>\n",
       "      <td>7.718340e-02</td>\n",
       "    </tr>\n",
       "    <tr>\n",
       "      <th>1770.0</th>\n",
       "      <td>7.718340e-02</td>\n",
       "    </tr>\n",
       "    <tr>\n",
       "      <th>...</th>\n",
       "      <td>...</td>\n",
       "    </tr>\n",
       "    <tr>\n",
       "      <th>4230.0</th>\n",
       "      <td>1.946075e-02</td>\n",
       "    </tr>\n",
       "    <tr>\n",
       "      <th>4290.0</th>\n",
       "      <td>1.487058e-02</td>\n",
       "    </tr>\n",
       "    <tr>\n",
       "      <th>4350.0</th>\n",
       "      <td>1.101089e-02</td>\n",
       "    </tr>\n",
       "    <tr>\n",
       "      <th>4410.0</th>\n",
       "      <td>7.892701e-03</td>\n",
       "    </tr>\n",
       "    <tr>\n",
       "      <th>4470.0</th>\n",
       "      <td>5.472334e-03</td>\n",
       "    </tr>\n",
       "    <tr>\n",
       "      <th>4530.0</th>\n",
       "      <td>3.667289e-03</td>\n",
       "    </tr>\n",
       "    <tr>\n",
       "      <th>4590.0</th>\n",
       "      <td>2.373917e-03</td>\n",
       "    </tr>\n",
       "    <tr>\n",
       "      <th>4650.0</th>\n",
       "      <td>1.483514e-03</td>\n",
       "    </tr>\n",
       "    <tr>\n",
       "      <th>4710.0</th>\n",
       "      <td>8.945642e-04</td>\n",
       "    </tr>\n",
       "    <tr>\n",
       "      <th>4770.0</th>\n",
       "      <td>5.202829e-04</td>\n",
       "    </tr>\n",
       "    <tr>\n",
       "      <th>4830.0</th>\n",
       "      <td>2.917513e-04</td>\n",
       "    </tr>\n",
       "    <tr>\n",
       "      <th>4890.0</th>\n",
       "      <td>1.576841e-04</td>\n",
       "    </tr>\n",
       "    <tr>\n",
       "      <th>4950.0</th>\n",
       "      <td>8.211805e-05</td>\n",
       "    </tr>\n",
       "    <tr>\n",
       "      <th>5010.0</th>\n",
       "      <td>4.119578e-05</td>\n",
       "    </tr>\n",
       "    <tr>\n",
       "      <th>5070.0</th>\n",
       "      <td>1.990358e-05</td>\n",
       "    </tr>\n",
       "    <tr>\n",
       "      <th>5130.0</th>\n",
       "      <td>9.259456e-06</td>\n",
       "    </tr>\n",
       "    <tr>\n",
       "      <th>5190.0</th>\n",
       "      <td>4.147028e-06</td>\n",
       "    </tr>\n",
       "    <tr>\n",
       "      <th>5250.0</th>\n",
       "      <td>1.787785e-06</td>\n",
       "    </tr>\n",
       "    <tr>\n",
       "      <th>5310.0</th>\n",
       "      <td>7.417488e-07</td>\n",
       "    </tr>\n",
       "    <tr>\n",
       "      <th>5370.0</th>\n",
       "      <td>2.961452e-07</td>\n",
       "    </tr>\n",
       "    <tr>\n",
       "      <th>5430.0</th>\n",
       "      <td>1.137645e-07</td>\n",
       "    </tr>\n",
       "    <tr>\n",
       "      <th>5490.0</th>\n",
       "      <td>4.204499e-08</td>\n",
       "    </tr>\n",
       "    <tr>\n",
       "      <th>5550.0</th>\n",
       "      <td>1.494781e-08</td>\n",
       "    </tr>\n",
       "    <tr>\n",
       "      <th>5610.0</th>\n",
       "      <td>5.111346e-09</td>\n",
       "    </tr>\n",
       "    <tr>\n",
       "      <th>5670.0</th>\n",
       "      <td>1.680651e-09</td>\n",
       "    </tr>\n",
       "    <tr>\n",
       "      <th>5730.0</th>\n",
       "      <td>5.310331e-10</td>\n",
       "    </tr>\n",
       "    <tr>\n",
       "      <th>5790.0</th>\n",
       "      <td>1.609042e-10</td>\n",
       "    </tr>\n",
       "    <tr>\n",
       "      <th>5850.0</th>\n",
       "      <td>4.641063e-11</td>\n",
       "    </tr>\n",
       "    <tr>\n",
       "      <th>5910.0</th>\n",
       "      <td>1.238259e-11</td>\n",
       "    </tr>\n",
       "    <tr>\n",
       "      <th>5970.0</th>\n",
       "      <td>2.665837e-12</td>\n",
       "    </tr>\n",
       "  </tbody>\n",
       "</table>\n",
       "<p>100 rows × 1 columns</p>\n",
       "</div>"
      ],
      "text/plain": [
       "        AOD per Layer\n",
       "30.0     9.573762e-02\n",
       "90.0     9.573755e-02\n",
       "150.0    9.573655e-02\n",
       "210.0    9.572684e-02\n",
       "270.0    9.566057e-02\n",
       "330.0    9.534522e-02\n",
       "390.0    9.429822e-02\n",
       "450.0    9.187297e-02\n",
       "510.0    8.795359e-02\n",
       "570.0    8.353450e-02\n",
       "630.0    8.005833e-02\n",
       "690.0    7.815056e-02\n",
       "750.0    7.742009e-02\n",
       "810.0    7.722495e-02\n",
       "870.0    7.718859e-02\n",
       "930.0    7.718386e-02\n",
       "990.0    7.718343e-02\n",
       "1050.0   7.718340e-02\n",
       "1110.0   7.718340e-02\n",
       "1170.0   7.718340e-02\n",
       "1230.0   7.718340e-02\n",
       "1290.0   7.718340e-02\n",
       "1350.0   7.718340e-02\n",
       "1410.0   7.718340e-02\n",
       "1470.0   7.718340e-02\n",
       "1530.0   7.718340e-02\n",
       "1590.0   7.718340e-02\n",
       "1650.0   7.718340e-02\n",
       "1710.0   7.718340e-02\n",
       "1770.0   7.718340e-02\n",
       "...               ...\n",
       "4230.0   1.946075e-02\n",
       "4290.0   1.487058e-02\n",
       "4350.0   1.101089e-02\n",
       "4410.0   7.892701e-03\n",
       "4470.0   5.472334e-03\n",
       "4530.0   3.667289e-03\n",
       "4590.0   2.373917e-03\n",
       "4650.0   1.483514e-03\n",
       "4710.0   8.945642e-04\n",
       "4770.0   5.202829e-04\n",
       "4830.0   2.917513e-04\n",
       "4890.0   1.576841e-04\n",
       "4950.0   8.211805e-05\n",
       "5010.0   4.119578e-05\n",
       "5070.0   1.990358e-05\n",
       "5130.0   9.259456e-06\n",
       "5190.0   4.147028e-06\n",
       "5250.0   1.787785e-06\n",
       "5310.0   7.417488e-07\n",
       "5370.0   2.961452e-07\n",
       "5430.0   1.137645e-07\n",
       "5490.0   4.204499e-08\n",
       "5550.0   1.494781e-08\n",
       "5610.0   5.111346e-09\n",
       "5670.0   1.680651e-09\n",
       "5730.0   5.310331e-10\n",
       "5790.0   1.609042e-10\n",
       "5850.0   4.641063e-11\n",
       "5910.0   1.238259e-11\n",
       "5970.0   2.665837e-12\n",
       "\n",
       "[100 rows x 1 columns]"
      ]
     },
     "execution_count": 38,
     "metadata": {},
     "output_type": "execute_result"
    }
   ],
   "source": [
    "sdl.data"
   ]
  },
  {
   "cell_type": "code",
   "execution_count": null,
   "metadata": {
    "collapsed": true
   },
   "outputs": [],
   "source": [
    "pd."
   ]
  }
 ],
 "metadata": {
  "hide_input": false,
  "kernelspec": {
   "display_name": "Python 3",
   "language": "python",
   "name": "python3"
  },
  "language_info": {
   "codemirror_mode": {
    "name": "ipython",
    "version": 3
   },
   "file_extension": ".py",
   "mimetype": "text/x-python",
   "name": "python",
   "nbconvert_exporter": "python",
   "pygments_lexer": "ipython3",
   "version": "3.5.2"
  },
  "nav_menu": {},
  "toc": {
   "navigate_menu": true,
   "number_sections": true,
   "sideBar": true,
   "threshold": 6,
   "toc_cell": false,
   "toc_section_display": "block",
   "toc_window_display": false
  }
 },
 "nbformat": 4,
 "nbformat_minor": 0
}
