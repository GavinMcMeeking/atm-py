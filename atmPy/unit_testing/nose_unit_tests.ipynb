{
 "cells": [
  {
   "cell_type": "code",
   "execution_count": 1,
   "metadata": {
    "ExecuteTime": {
     "end_time": "2016-12-20T17:31:15.142177",
     "start_time": "2016-12-20T17:31:14.530656"
    },
    "collapsed": true,
    "run_control": {
     "frozen": false,
     "read_only": false
    }
   },
   "outputs": [],
   "source": [
    "import nose_tests"
   ]
  },
  {
   "cell_type": "code",
   "execution_count": null,
   "metadata": {
    "collapsed": true,
    "run_control": {
     "frozen": false,
     "read_only": false
    }
   },
   "outputs": [],
   "source": []
  },
  {
   "cell_type": "code",
   "execution_count": 197,
   "metadata": {
    "ExecuteTime": {
     "end_time": "2016-05-20T13:33:22.890220",
     "start_time": "2016-05-20T13:33:22.756154"
    },
    "collapsed": false,
    "run_control": {
     "frozen": false,
     "read_only": false
    }
   },
   "outputs": [
    {
     "name": "stdout",
     "output_type": "stream",
     "text": [
      "total 40\r\n",
      "-rw-r--r--+  1 htelg  1330471208  1998 Feb 10 11:54 HACKTHIS.md\r\n",
      "-rw-r--r--+  1 htelg  1330471208  1079 Feb  8 11:29 LICENSE\r\n",
      "-rw-r--r--+  1 htelg  1330471208   419 Feb  8 11:29 README.md\r\n",
      "drwxr-xr-x+ 13 htelg  1330471208   442 May 20 10:14 \u001b[34matmPy\u001b[m\u001b[m/\r\n",
      "drwxr-xr-x+ 26 htelg  1330471208   884 May 20 09:31 \u001b[34mexamples\u001b[m\u001b[m/\r\n",
      "-rw-r--r--+  1 htelg  1330471208   260 Feb  8 11:29 setup.py\r\n",
      "-rw-r--r--+  1 htelg  1330471208  1301 May 20 13:31 testresults.log\r\n",
      "drwxr-xr-x+ 11 htelg  1330471208   374 May 20 13:31 \u001b[34munit_testing\u001b[m\u001b[m/\r\n"
     ]
    }
   ],
   "source": [
    "ll"
   ]
  },
  {
   "cell_type": "code",
   "execution_count": null,
   "metadata": {
    "collapsed": true,
    "run_control": {
     "frozen": false,
     "read_only": false
    }
   },
   "outputs": [],
   "source": [
    "import"
   ]
  },
  {
   "cell_type": "markdown",
   "metadata": {
    "collapsed": true
   },
   "source": [
    "# Run the test "
   ]
  },
  {
   "cell_type": "code",
   "execution_count": 59,
   "metadata": {
    "ExecuteTime": {
     "end_time": "2016-12-20T19:33:51.903556",
     "start_time": "2016-12-20T19:33:51.900223"
    },
    "collapsed": true,
    "run_control": {
     "frozen": false,
     "read_only": false
    }
   },
   "outputs": [],
   "source": [
    "from atmPy.unit_testing import run_nose_tests"
   ]
  },
  {
   "cell_type": "code",
   "execution_count": 61,
   "metadata": {
    "ExecuteTime": {
     "end_time": "2016-12-20T19:34:00.748912",
     "start_time": "2016-12-20T19:34:00.742138"
    },
    "collapsed": false
   },
   "outputs": [
    {
     "data": {
      "text/plain": [
       "<module 'atmPy.unit_testing.nose_tests' from '/Users/htelg/prog/atm-py/atmPy/unit_testing/nose_tests.py'>"
      ]
     },
     "execution_count": 61,
     "metadata": {},
     "output_type": "execute_result"
    }
   ],
   "source": [
    "reload(run_nose_tests)\n",
    "reload(nose_tests)"
   ]
  },
  {
   "cell_type": "code",
   "execution_count": 62,
   "metadata": {
    "ExecuteTime": {
     "end_time": "2016-12-20T19:34:04.633317",
     "start_time": "2016-12-20T19:34:01.771266"
    },
    "collapsed": false,
    "run_control": {
     "frozen": false,
     "read_only": false
    }
   },
   "outputs": [
    {
     "name": "stdout",
     "output_type": "stream",
     "text": [
      "['.', '----------------------------------------------------------------------', 'Ran 1 test in 0.392s', '', 'OK']\n"
     ]
    }
   ],
   "source": [
    "run_nose_tests.run()"
   ]
  },
  {
   "cell_type": "markdown",
   "metadata": {},
   "source": [
    "# data_archives"
   ]
  },
  {
   "cell_type": "markdown",
   "metadata": {},
   "source": [
    "## ARM"
   ]
  },
  {
   "cell_type": "code",
   "execution_count": 1,
   "metadata": {
    "ExecuteTime": {
     "end_time": "2016-12-20T19:50:35.939192",
     "start_time": "2016-12-20T19:50:35.486045"
    },
    "collapsed": true,
    "run_control": {
     "frozen": false,
     "read_only": false
    }
   },
   "outputs": [],
   "source": [
    "from atmPy.data_archives import arm"
   ]
  },
  {
   "cell_type": "code",
   "execution_count": 2,
   "metadata": {
    "ExecuteTime": {
     "end_time": "2016-12-20T19:50:35.947951",
     "start_time": "2016-12-20T19:50:35.941263"
    },
    "collapsed": false,
    "run_control": {
     "frozen": false,
     "read_only": false
    }
   },
   "outputs": [
    {
     "data": {
      "text/plain": [
       "dict_keys(['tdmasize', 'aipfitrh1ogrenC1', 'noaaaos', 'aosacsm', '1twr10xC1', 'tdmahyg', 'tdmaapssize'])"
      ]
     },
     "execution_count": 2,
     "metadata": {},
     "output_type": "execute_result"
    }
   ],
   "source": [
    "arm.arm_products.keys()"
   ]
  },
  {
   "cell_type": "code",
   "execution_count": 3,
   "metadata": {
    "ExecuteTime": {
     "end_time": "2016-12-20T19:50:40.340158",
     "start_time": "2016-12-20T19:50:40.336860"
    },
    "collapsed": true,
    "run_control": {
     "frozen": false,
     "read_only": false
    }
   },
   "outputs": [],
   "source": [
    "fname = './test_data/'"
   ]
  },
  {
   "cell_type": "markdown",
   "metadata": {},
   "source": [
    "### 1twr10xC1"
   ]
  },
  {
   "cell_type": "code",
   "execution_count": 4,
   "metadata": {
    "ExecuteTime": {
     "end_time": "2016-12-20T19:50:43.767656",
     "start_time": "2016-12-20T19:50:43.409900"
    },
    "collapsed": false,
    "run_control": {
     "frozen": false,
     "read_only": false
    }
   },
   "outputs": [],
   "source": [
    "# # create the test file\n",
    "out = arm.read_netCDF(fname, data_product='1twr10xC1')\n",
    "out = out['1twr10xC1']\n",
    "# out.relative_humidity.data.to_csv(fname+'1twr10xC1_rh.csv')\n",
    "# out.temperature.data.to_csv(fname+'1twr10xC1_temp.csv')\n",
    "# out.vapor_pressure.data.to_csv(fname + '1twr10xC1_p_vapor.csv')"
   ]
  },
  {
   "cell_type": "code",
   "execution_count": 73,
   "metadata": {
    "ExecuteTime": {
     "end_time": "2016-05-20T11:10:24.081412",
     "start_time": "2016-05-20T11:10:24.073840"
    },
    "collapsed": false,
    "run_control": {
     "frozen": false,
     "read_only": false
    }
   },
   "outputs": [
    {
     "data": {
      "text/plain": [
       "<module 'nose_tests' from '/Users/htelg/prog/atm-py/unit_testing/nose_tests.py'>"
      ]
     },
     "execution_count": 73,
     "metadata": {},
     "output_type": "execute_result"
    }
   ],
   "source": [
    "reload(nose_tests)"
   ]
  },
  {
   "cell_type": "code",
   "execution_count": 63,
   "metadata": {
    "ExecuteTime": {
     "end_time": "2016-12-20T19:34:16.662455",
     "start_time": "2016-12-20T19:34:16.647938"
    },
    "collapsed": false,
    "run_control": {
     "frozen": false,
     "read_only": false
    }
   },
   "outputs": [
    {
     "ename": "AttributeError",
     "evalue": "module 'atmPy.unit_testing.nose_tests' has no attribute 'test_1twr10xC1'",
     "output_type": "error",
     "traceback": [
      "\u001b[0;31m---------------------------------------------------------------------------\u001b[0m",
      "\u001b[0;31mAttributeError\u001b[0m                            Traceback (most recent call last)",
      "\u001b[0;32m<ipython-input-63-3884ff5b1795>\u001b[0m in \u001b[0;36m<module>\u001b[0;34m()\u001b[0m\n\u001b[0;32m----> 1\u001b[0;31m \u001b[0mnose_tests\u001b[0m\u001b[0;34m.\u001b[0m\u001b[0mtest_1twr10xC1\u001b[0m\u001b[0;34m(\u001b[0m\u001b[0;34m)\u001b[0m\u001b[0;34m\u001b[0m\u001b[0m\n\u001b[0m",
      "\u001b[0;31mAttributeError\u001b[0m: module 'atmPy.unit_testing.nose_tests' has no attribute 'test_1twr10xC1'"
     ]
    }
   ],
   "source": [
    "nose_tests.test_1twr10xC1()"
   ]
  },
  {
   "cell_type": "code",
   "execution_count": 9,
   "metadata": {
    "ExecuteTime": {
     "end_time": "2016-12-20T19:51:26.890982",
     "start_time": "2016-12-20T19:51:26.887227"
    },
    "collapsed": true
   },
   "outputs": [],
   "source": [
    "test_data_folder = './test_data/'"
   ]
  },
  {
   "cell_type": "code",
   "execution_count": 10,
   "metadata": {
    "ExecuteTime": {
     "end_time": "2016-12-20T19:51:27.096885",
     "start_time": "2016-12-20T19:51:27.092458"
    },
    "collapsed": true
   },
   "outputs": [],
   "source": [
    "from atmPy.data_archives import arm"
   ]
  },
  {
   "cell_type": "code",
   "execution_count": 11,
   "metadata": {
    "ExecuteTime": {
     "end_time": "2016-12-20T19:51:27.660622",
     "start_time": "2016-12-20T19:51:27.280419"
    },
    "collapsed": false
   },
   "outputs": [],
   "source": [
    "out = arm.read_netCDF(test_data_folder, data_product='1twr10xC1')\n",
    "out = out['1twr10xC1']"
   ]
  },
  {
   "cell_type": "code",
   "execution_count": 13,
   "metadata": {
    "ExecuteTime": {
     "end_time": "2016-12-20T19:51:37.725806",
     "start_time": "2016-12-20T19:51:37.713631"
    },
    "collapsed": false
   },
   "outputs": [],
   "source": [
    "# rh\n",
    "soll = pd.read_csv(test_data_folder + '1twr10xC1_rh.csv', index_col=0,\n",
    "                   dtype={'rh_25m': np.float32, 'rh_60m': np.float32}\n",
    "                   )\n",
    "# self.assertTrue(np.all(out.relative_humidity.data == soll))\n",
    "# np.all(out.relative_humidity.data.index == soll.index)"
   ]
  },
  {
   "cell_type": "code",
   "execution_count": 19,
   "metadata": {
    "ExecuteTime": {
     "end_time": "2016-12-20T19:53:07.223011",
     "start_time": "2016-12-20T19:53:07.211927"
    },
    "collapsed": false
   },
   "outputs": [
    {
     "data": {
      "text/plain": [
       "array([ True,  True,  True, ...,  True,  True,  True], dtype=bool)"
      ]
     },
     "execution_count": 19,
     "metadata": {},
     "output_type": "execute_result"
    }
   ],
   "source": [
    "out.relative_humidity.data.index == pd.to_datetime(soll.index)"
   ]
  },
  {
   "cell_type": "code",
   "execution_count": 16,
   "metadata": {
    "ExecuteTime": {
     "end_time": "2016-12-20T19:52:11.100754",
     "start_time": "2016-12-20T19:52:11.093937"
    },
    "collapsed": false
   },
   "outputs": [
    {
     "data": {
      "text/plain": [
       "DatetimeIndex(['2012-01-31 23:59:00', '2012-02-01 00:00:00',\n",
       "               '2012-02-01 00:01:00', '2012-02-01 00:02:00',\n",
       "               '2012-02-01 00:03:00', '2012-02-01 00:04:00',\n",
       "               '2012-02-01 00:05:00', '2012-02-01 00:06:00',\n",
       "               '2012-02-01 00:07:00', '2012-02-01 00:08:00',\n",
       "               ...\n",
       "               '2012-02-03 23:49:00', '2012-02-03 23:50:00',\n",
       "               '2012-02-03 23:51:00', '2012-02-03 23:52:00',\n",
       "               '2012-02-03 23:53:00', '2012-02-03 23:54:00',\n",
       "               '2012-02-03 23:55:00', '2012-02-03 23:56:00',\n",
       "               '2012-02-03 23:57:00', '2012-02-03 23:58:00'],\n",
       "              dtype='datetime64[ns]', name='Time', length=4320, freq=None)"
      ]
     },
     "execution_count": 16,
     "metadata": {},
     "output_type": "execute_result"
    }
   ],
   "source": [
    "out.relative_humidity.data.index"
   ]
  },
  {
   "cell_type": "code",
   "execution_count": 72,
   "metadata": {
    "ExecuteTime": {
     "end_time": "2016-12-20T19:38:16.092049",
     "start_time": "2016-12-20T19:38:16.088287"
    },
    "collapsed": false
   },
   "outputs": [],
   "source": [
    "soll.columns.name = out.relative_humidity.data.columns.name"
   ]
  },
  {
   "cell_type": "code",
   "execution_count": null,
   "metadata": {
    "collapsed": true
   },
   "outputs": [],
   "source": [
    "# temp\n",
    "soll = pd.read_csv(test_data_folder + '1twr10xC1_temp.csv', index_col=0,\n",
    "                   dtype={'temp_25m': np.float32, 'temp_60m': np.float32}\n",
    "                   )\n",
    "self.assertTrue(np.all(out.temperature.data == soll))\n",
    "\n",
    "# vapor pressure\n",
    "soll = pd.read_csv(test_data_folder + '1twr10xC1_p_vapor.csv', index_col=0,\n",
    "                   dtype={'vap_pres_25m': np.float32, 'vap_pres_60m': np.float32}\n",
    "                   )\n",
    "\n",
    "self.assertTrue(np.all(out.vapor_pressure.data == soll))"
   ]
  },
  {
   "cell_type": "markdown",
   "metadata": {
    "ExecuteTime": {
     "end_time": "2016-05-20T11:09:43.863352",
     "start_time": "2016-05-20T11:09:43.858524"
    },
    "collapsed": false,
    "run_control": {
     "frozen": false,
     "read_only": false
    }
   },
   "source": [
    "# Aerosols"
   ]
  },
  {
   "cell_type": "markdown",
   "metadata": {
    "collapsed": true,
    "run_control": {
     "frozen": false,
     "read_only": false
    }
   },
   "source": [
    "## sizedistribution"
   ]
  },
  {
   "cell_type": "markdown",
   "metadata": {},
   "source": [
    "### concentrations"
   ]
  },
  {
   "cell_type": "code",
   "execution_count": 28,
   "metadata": {
    "ExecuteTime": {
     "end_time": "2016-12-21T07:19:42.312001",
     "start_time": "2016-12-21T07:19:42.303974"
    },
    "collapsed": true
   },
   "outputs": [],
   "source": [
    "from atmPy.aerosols import size_distribution\n",
    "%matplotlib inline"
   ]
  },
  {
   "cell_type": "code",
   "execution_count": 87,
   "metadata": {
    "ExecuteTime": {
     "end_time": "2016-12-21T08:37:47.500045",
     "start_time": "2016-12-21T08:37:47.494457"
    },
    "collapsed": true
   },
   "outputs": [],
   "source": [
    "sd = size_distribution.sizedistribution.simulate_sizedistribution(diameter=[15, 3000], \n",
    "                                                             numberOfDiameters=50, \n",
    "                                                             centerOfAerosolMode=222, \n",
    "                                                             widthOfAerosolMode=0.18, \n",
    "                                                             numberOfParticsInMode=888)\n",
    "\n",
    "sd.particle_number_concentration == 888.0\n",
    "\n",
    "float(sd.particle_surface_concentration.values) == 194.42186363605904\n",
    "\n",
    "float(sd.particle_volume_concentration.values) == 11.068545094055812\n",
    "\n",
    "sd.properties.particle_density =2.2\n",
    "\n",
    "float(sd.particle_mass_concentration) == 24.350799206922783"
   ]
  },
  {
   "cell_type": "markdown",
   "metadata": {},
   "source": [
    "#### including mixing rations"
   ]
  },
  {
   "cell_type": "code",
   "execution_count": 28,
   "metadata": {
    "ExecuteTime": {
     "end_time": "2016-12-21T07:19:42.312001",
     "start_time": "2016-12-21T07:19:42.303974"
    },
    "collapsed": true
   },
   "outputs": [],
   "source": [
    "from atmPy.aerosols import size_distribution\n",
    "%matplotlib inline"
   ]
  },
  {
   "cell_type": "code",
   "execution_count": 175,
   "metadata": {
    "ExecuteTime": {
     "end_time": "2016-12-21T09:07:54.483032",
     "start_time": "2016-12-21T09:07:54.435166"
    },
    "collapsed": false
   },
   "outputs": [
    {
     "name": "stderr",
     "output_type": "stream",
     "text": [
      "/Users/htelg/prog/atm-py/atmPy/aerosols/size_distribution/sizedistribution.py:2442: VisibleDeprecationWarning: using a non-integer number instead of an integer will result in an error in the future\n",
      "  sdArray = _np.zeros((periods, numberOfDiameters - 1))\n"
     ]
    }
   ],
   "source": [
    "sd = size_distribution.sizedistribution.simulate_sizedistribution_timeseries(diameter=[15, 3000], \n",
    "                                                                             numberOfDiameters=50, \n",
    "                                                                             centerOfAerosolMode=222, \n",
    "                                                                             widthOfAerosolMode=0.18, \n",
    "                                                                             numberOfParticsInMode=888, \n",
    "                                                                             startDate='2015-10-23 16:00:00', \n",
    "                                                                             endDate='2015-10-23 17:00:00', \n",
    "                                                                             frequency=60)\n",
    "\n",
    "sd.data = sd.data.iloc[[0],:]\n",
    "sd.housekeeping = atmPy.general.timeseries.TimeSeries(pd.DataFrame(np.array([[250.], [750.]]).transpose(), index = sd.data.index, columns=['temperature_K', 'pressure_Pa']))\n",
    "sd.properties.particle_density =2.8\n",
    "float(sd.particle_mass_mixing_ratio.data.values) * 1e6 == 2.96533739732464"
   ]
  },
  {
   "cell_type": "markdown",
   "metadata": {},
   "source": [
    "### moment conversion"
   ]
  },
  {
   "cell_type": "code",
   "execution_count": 28,
   "metadata": {
    "ExecuteTime": {
     "end_time": "2016-12-21T07:19:42.312001",
     "start_time": "2016-12-21T07:19:42.303974"
    },
    "collapsed": true
   },
   "outputs": [],
   "source": [
    "from atmPy.aerosols import size_distribution\n",
    "%matplotlib inline"
   ]
  },
  {
   "cell_type": "code",
   "execution_count": 76,
   "metadata": {
    "ExecuteTime": {
     "end_time": "2016-12-21T08:20:39.174178",
     "start_time": "2016-12-21T08:20:39.104892"
    },
    "collapsed": false
   },
   "outputs": [
    {
     "name": "stderr",
     "output_type": "stream",
     "text": [
      "/Users/htelg/prog/atm-py/atmPy/aerosols/size_distribution/sizedistribution.py:844: UserWarning: This function is deprecated use close_gaps instead ... unless you like thisone better\n",
      "  _warnings.warn('This function is deprecated use close_gaps instead ... unless you like thisone better')\n",
      "/opt/local/Library/Frameworks/Python.framework/Versions/3.5/lib/python3.5/site-packages/numpy/core/_methods.py:59: RuntimeWarning: Mean of empty slice.\n",
      "  warnings.warn(\"Mean of empty slice.\", RuntimeWarning)\n",
      "/opt/local/Library/Frameworks/Python.framework/Versions/3.5/lib/python3.5/site-packages/numpy/core/_methods.py:70: RuntimeWarning: invalid value encountered in double_scalars\n",
      "  ret = ret.dtype.type(ret / rcount)\n"
     ]
    }
   ],
   "source": [
    "sd = size_distribution.sizedistribution.simulate_sizedistribution(diameter=[15, 3000], \n",
    "                                                             numberOfDiameters=50, \n",
    "                                                             centerOfAerosolMode=222, \n",
    "                                                             widthOfAerosolMode=0.18, \n",
    "                                                             numberOfParticsInMode=888)\n",
    "\n",
    "sd_dNdDp = sd.convert2dNdDp()\n",
    "sd_dNdlogDp = sd.convert2dNdlogDp()\n",
    "sd_dSdDp = sd.convert2dSdDp()\n",
    "sd_dSdlogDp = sd.convert2dSdlogDp()\n",
    "sd_dVdDp = sd.convert2dVdDp()\n",
    "sd_dVdlogDp = sd.convert2dVdlogDp()\n",
    "\n",
    "folder = './test_data/'\n",
    "\n",
    "# sd.save_csv(folder + 'aerosols_size_dist_moments_sd.nc')\n",
    "# sd_dNdDp.save_csv(folder + 'aerosols_size_dist_moments_sd_dNdDp.nc')\n",
    "# sd_dNdlogDp.save_csv(folder + 'aerosols_size_dist_moments_sd_dNdlogDp.nc')\n",
    "# sd_dSdDp.save_csv(folder + 'aerosols_size_dist_moments_sd_dSdDp.nc')\n",
    "# sd_dSdlogDp.save_csv(folder + 'aerosols_size_dist_moments_sd_dSdlogDp.nc')\n",
    "# sd_dVdDp.save_csv(folder + 'aerosols_size_dist_moments_sd_dVdDp.nc')\n",
    "# sd_dVdlogDp.save_csv(folder + 'aerosols_size_dist_moments_sd_dVdlogDp.nc')\n",
    "\n",
    "sd_soll = size_distribution.sizedistribution.read_csv(folder + 'aerosols_size_dist_moments_sd.nc')\n",
    "sd_dNdDp_soll = size_distribution.sizedistribution.read_csv(folder + 'aerosols_size_dist_moments_sd_dNdDp.nc')\n",
    "sd_dNdlogDp_soll = size_distribution.sizedistribution.read_csv(folder + 'aerosols_size_dist_moments_sd_dNdlogDp.nc')\n",
    "sd_dSdDp_soll = size_distribution.sizedistribution.read_csv(folder + 'aerosols_size_dist_moments_sd_dSdDp.nc')\n",
    "sd_dSdlogDp_soll = size_distribution.sizedistribution.read_csv(folder + 'aerosols_size_dist_moments_sd_dSdlogDp.nc')\n",
    "sd_dVdDp_soll = size_distribution.sizedistribution.read_csv(folder + 'aerosols_size_dist_moments_sd_dVdDp.nc')\n",
    "sd_dVdlogDp_soll = size_distribution.sizedistribution.read_csv(folder + 'aerosols_size_dist_moments_sd_dVdlogDp.nc')\n",
    "\n",
    "threshold = 1e-10\n",
    "assert(abs((sd.data.values - sd_soll.data)).values.sum() < (sd.data.values.max() * threshold))\n",
    "assert((sd_dNdDp.data - sd_dNdDp_soll.data).values.sum() < (sd_dNdDp.data.values.max() * threshold))\n",
    "assert((sd_dSdDp.data - sd_dSdDp_soll.data).values.sum() < (sd_dSdDp.data.values.max() * threshold))\n",
    "assert((sd_dVdDp.data - sd_dVdDp_soll.data).values.sum() < (sd_dVdDp.data.values.max() * threshold))\n",
    "assert((sd_dNdlogDp.data - sd_dNdlogDp_soll.data).values.sum() < (sd_dNdlogDp.data.values.max() * threshold))\n",
    "assert((sd_dSdlogDp.data - sd_dSdlogDp_soll.data).values.sum() < (sd_dSdlogDp.data.values.max() * threshold))\n",
    "assert((sd_dVdlogDp.data - sd_dVdlogDp_soll.data).values.sum() < (sd_dVdlogDp.data.values.max() * threshold))"
   ]
  },
  {
   "cell_type": "code",
   "execution_count": 86,
   "metadata": {
    "ExecuteTime": {
     "end_time": "2016-12-21T08:26:05.615397",
     "start_time": "2016-12-21T08:26:05.609744"
    },
    "collapsed": false
   },
   "outputs": [
    {
     "data": {
      "text/plain": [
       "-8.7785748722638802e-16"
      ]
     },
     "execution_count": 86,
     "metadata": {},
     "output_type": "execute_result"
    }
   ],
   "source": [
    "(sd.data.values - sd_soll.data.values).sum()"
   ]
  },
  {
   "cell_type": "code",
   "execution_count": 81,
   "metadata": {
    "ExecuteTime": {
     "end_time": "2016-12-21T08:24:27.198042",
     "start_time": "2016-12-21T08:24:27.190303"
    },
    "collapsed": false
   },
   "outputs": [
    {
     "data": {
      "text/plain": [
       "True"
      ]
     },
     "execution_count": 81,
     "metadata": {},
     "output_type": "execute_result"
    }
   ],
   "source": [
    "(abs((sd.data - sd_soll.data).dropna()).values.sum() < (sd.data.values.max() * threshold))"
   ]
  },
  {
   "cell_type": "markdown",
   "metadata": {},
   "source": [
    "### optical properties"
   ]
  },
  {
   "cell_type": "code",
   "execution_count": 30,
   "metadata": {
    "ExecuteTime": {
     "end_time": "2016-12-21T07:20:36.113896",
     "start_time": "2016-12-21T07:20:36.108538"
    },
    "collapsed": true
   },
   "outputs": [],
   "source": [
    "from atmPy.aerosols import size_distribution\n",
    "import atmPy\n",
    "%matplotlib inline"
   ]
  },
  {
   "cell_type": "code",
   "execution_count": 36,
   "metadata": {
    "ExecuteTime": {
     "end_time": "2016-12-21T07:21:22.213719",
     "start_time": "2016-12-21T07:21:21.426902"
    },
    "collapsed": false
   },
   "outputs": [
    {
     "data": {
      "text/plain": [
       "True"
      ]
     },
     "execution_count": 36,
     "metadata": {},
     "output_type": "execute_result"
    }
   ],
   "source": [
    "sd = size_distribution.sizedistribution.simulate_sizedistribution_layerseries(diameter=[10, 2500], \n",
    "                                                                              numberOfDiameters=100, \n",
    "                                                                              heightlimits=[0, 6000], \n",
    "                                                                              noOflayers=100, \n",
    "                                                                              layerHeight=[500.0, 4000.0], \n",
    "                                                                              layerThickness=[100.0, 300.0], \n",
    "                                                                              layerDensity=[1000.0, 50.0], \n",
    "                                                                              layerModecenter=[200.0, 800.0], \n",
    "                                                                              widthOfAerosolMode=0.2)\n",
    "\n",
    "sd.optical_properties_settings.refractive_index = 1.56\n",
    "sd.optical_properties_settings.wavelength = 515\n",
    "\n",
    "fname = './test_data/aerosols_size_dist_LS_optprop.nc'\n",
    "sdl = atmPy.read_file.netCDF(fname)\n",
    "\n",
    "np.all(sd.optical_properties.aerosol_optical_depth_cumulative_VP.data == sdl.data)"
   ]
  },
  {
   "cell_type": "code",
   "execution_count": 35,
   "metadata": {
    "ExecuteTime": {
     "end_time": "2016-12-21T07:21:19.688638",
     "start_time": "2016-12-21T07:21:19.641362"
    },
    "collapsed": true,
    "run_control": {
     "frozen": true,
     "read_only": true
    }
   },
   "outputs": [],
   "source": [
    "fname = './test_data/aerosols_size_dist_LS_optprop.nc'\n",
    "sd.optical_properties.aerosol_optical_depth_cumulative_VP.save_netCDF(fname)"
   ]
  },
  {
   "cell_type": "markdown",
   "metadata": {},
   "source": [
    "## physics"
   ]
  },
  {
   "cell_type": "markdown",
   "metadata": {},
   "source": [
    "### hygroscopicity"
   ]
  },
  {
   "cell_type": "code",
   "execution_count": 3,
   "metadata": {
    "ExecuteTime": {
     "end_time": "2016-12-23T08:33:00.169086",
     "start_time": "2016-12-23T08:33:00.165450"
    },
    "collapsed": true
   },
   "outputs": [],
   "source": [
    "from atmPy.aerosols.physics import hygroscopic_growth as hyg\n",
    "from atmPy.data_archives import arm"
   ]
  },
  {
   "cell_type": "code",
   "execution_count": 4,
   "metadata": {
    "ExecuteTime": {
     "end_time": "2016-12-23T08:33:00.972839",
     "start_time": "2016-12-23T08:33:00.965989"
    },
    "collapsed": false
   },
   "outputs": [
    {
     "data": {
      "text/plain": [
       "<module 'atmPy.aerosols.physics.hygroscopic_growth' from '/Users/htelg/prog/atm-py/atmPy/aerosols/physics/hygroscopic_growth.py'>"
      ]
     },
     "execution_count": 4,
     "metadata": {},
     "output_type": "execute_result"
    }
   ],
   "source": [
    "reload(hyg)"
   ]
  },
  {
   "cell_type": "code",
   "execution_count": 23,
   "metadata": {
    "ExecuteTime": {
     "end_time": "2016-12-23T08:36:48.650774",
     "start_time": "2016-12-23T08:36:47.498443"
    },
    "collapsed": false
   },
   "outputs": [
    {
     "name": "stdout",
     "output_type": "stream",
     "text": [
      "1.0912250836720176e-06 0.00028999998226984477 True\n",
      "1.0910740634306748e-06 1.0701970171113901e-05 True\n",
      "2.26223241806e-07 2.3521201654915003e-05 True\n"
     ]
    }
   ],
   "source": [
    "fname = './test_data/sgptdmahygC1.b1.20120601.004227.cdf'\n",
    "out = arm.read_netCDF(fname, data_quality= 'patchy', leave_cdf_open= False)\n",
    "hgfd = hyg.HygroscopicGrowthFactorDistributions(out.hyg_distributions.data.loc[:,200.0,:].transpose())\n",
    "hgfd.plot()\n",
    "\n",
    "fname = './test_data/aerosols_physics_hygroscopicity_growth_mode.csv'\n",
    "growth_mode_soll = pd.read_csv(fname, index_col=0)\n",
    "\n",
    "threshold = growth_mode_soll.ratio.sum() * 1e-5\n",
    "res = np.abs(hgfd.growth_modes.ratio - growth_mode_soll.ratio).sum() < threshold\n",
    "print(np.abs(hgfd.growth_modes.ratio - growth_mode_soll.ratio).sum(), threshold, res)\n",
    "\n",
    "threshold = growth_mode_soll.gf.sum() * 1e-7\n",
    "res = np.abs(hgfd.growth_modes.gf - growth_mode_soll.gf).sum()< threshold\n",
    "print(np.abs(hgfd.growth_modes.gf - growth_mode_soll.gf).sum(), threshold, res)\n",
    "\n",
    "#######\n",
    "fname = './test_data/aerosols_physics_hygroscopicity_mixing_state.csv'\n",
    "mixing_state_soll = pd.read_csv(fname, index_col=0)\n",
    "\n",
    "threshold = mixing_state_soll.mixing_state.sum() * 1e-6\n",
    "res = np.abs(hgfd.mixing_state.mixing_state - mixing_state_soll.mixing_state).sum() < threshold\n",
    "print(np.abs(hgfd.mixing_state.mixing_state - mixing_state_soll.mixing_state).sum(), threshold, res)"
   ]
  },
  {
   "cell_type": "code",
   "execution_count": 183,
   "metadata": {
    "ExecuteTime": {
     "end_time": "2016-12-22T17:48:35.686939",
     "start_time": "2016-12-22T17:48:35.642518"
    },
    "collapsed": false,
    "run_control": {
     "frozen": true,
     "read_only": true
    }
   },
   "outputs": [],
   "source": [
    "fname = './test_data/aerosols_physics_hygroscopicity_growth_mode.csv'\n",
    "hgfd.growth_modes.to_csv(fname)"
   ]
  },
  {
   "cell_type": "code",
   "execution_count": 184,
   "metadata": {
    "ExecuteTime": {
     "end_time": "2016-12-22T17:49:29.714369",
     "start_time": "2016-12-22T17:49:29.673858"
    },
    "collapsed": true,
    "run_control": {
     "frozen": true,
     "read_only": true
    }
   },
   "outputs": [],
   "source": [
    "fname = './test_data/aerosols_physics_hygroscopicity_mixing_state.csv'\n",
    "hgfd.mixing_state.to_csv(fname)"
   ]
  },
  {
   "cell_type": "code",
   "execution_count": 25,
   "metadata": {
    "ExecuteTime": {
     "end_time": "2016-12-23T08:37:20.208664",
     "start_time": "2016-12-23T08:37:20.162315"
    },
    "collapsed": true
   },
   "outputs": [],
   "source": [
    "from atmPy.unit_testing import nose_tests"
   ]
  },
  {
   "cell_type": "code",
   "execution_count": 35,
   "metadata": {
    "ExecuteTime": {
     "end_time": "2016-12-23T08:37:41.898119",
     "start_time": "2016-12-23T08:37:40.822990"
    },
    "collapsed": false
   },
   "outputs": [],
   "source": [
    "reload(nose_tests)\n",
    "pht = nose_tests.PhysicsHygroscopicityTest()\n",
    "pht.test_hygroscopic_growth_factor_distributions()"
   ]
  },
  {
   "cell_type": "code",
   "execution_count": 37,
   "metadata": {
    "ExecuteTime": {
     "end_time": "2016-12-23T08:58:35.086964",
     "start_time": "2016-12-23T08:58:35.081387"
    },
    "collapsed": false
   },
   "outputs": [
    {
     "data": {
      "text/plain": [
       "object"
      ]
     },
     "execution_count": 37,
     "metadata": {},
     "output_type": "execute_result"
    }
   ],
   "source": [
    "type(object())"
   ]
  },
  {
   "cell_type": "code",
   "execution_count": null,
   "metadata": {
    "collapsed": true
   },
   "outputs": [],
   "source": []
  }
 ],
 "metadata": {
  "hide_input": false,
  "kernelspec": {
   "display_name": "Python 3",
   "language": "python",
   "name": "python3"
  },
  "language_info": {
   "codemirror_mode": {
    "name": "ipython",
    "version": 3
   },
   "file_extension": ".py",
   "mimetype": "text/x-python",
   "name": "python",
   "nbconvert_exporter": "python",
   "pygments_lexer": "ipython3",
   "version": "3.5.2"
  },
  "nav_menu": {},
  "toc": {
   "navigate_menu": true,
   "number_sections": true,
   "sideBar": true,
   "threshold": 6,
   "toc_cell": false,
   "toc_section_display": "block",
   "toc_window_display": true
  }
 },
 "nbformat": 4,
 "nbformat_minor": 0
}
