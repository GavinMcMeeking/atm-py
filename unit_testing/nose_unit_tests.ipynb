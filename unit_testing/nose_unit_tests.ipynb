{
 "cells": [
  {
   "cell_type": "code",
   "execution_count": null,
   "metadata": {
    "collapsed": true
   },
   "outputs": [],
   "source": []
  },
  {
   "cell_type": "code",
   "execution_count": null,
   "metadata": {
    "collapsed": true
   },
   "outputs": [],
   "source": []
  },
  {
   "cell_type": "code",
   "execution_count": null,
   "metadata": {
    "collapsed": true
   },
   "outputs": [],
   "source": []
  },
  {
   "cell_type": "code",
   "execution_count": null,
   "metadata": {
    "collapsed": true
   },
   "outputs": [],
   "source": []
  },
  {
   "cell_type": "markdown",
   "metadata": {},
   "source": [
    "# data_archives"
   ]
  },
  {
   "cell_type": "markdown",
   "metadata": {},
   "source": [
    "## ARM"
   ]
  },
  {
   "cell_type": "code",
   "execution_count": 1,
   "metadata": {
    "ExecuteTime": {
     "end_time": "2016-05-20T09:42:04.544165",
     "start_time": "2016-05-20T09:42:04.204533"
    },
    "collapsed": true
   },
   "outputs": [],
   "source": [
    "from atmPy.data_archives.arm import read_data"
   ]
  },
  {
   "cell_type": "code",
   "execution_count": 2,
   "metadata": {
    "ExecuteTime": {
     "end_time": "2016-05-20T09:44:04.015233",
     "start_time": "2016-05-20T09:44:04.000640"
    },
    "collapsed": false
   },
   "outputs": [
    {
     "data": {
      "text/plain": [
       "dict_keys(['1twr10xC1', 'tdmaapssize', 'noaaaos', 'aosacsm', 'aipfitrh1ogrenC1', 'tdmasize', 'tdmahyg'])"
      ]
     },
     "execution_count": 2,
     "metadata": {},
     "output_type": "execute_result"
    }
   ],
   "source": [
    "read_data.arm_products.keys()"
   ]
  },
  {
   "cell_type": "code",
   "execution_count": 3,
   "metadata": {
    "ExecuteTime": {
     "end_time": "2016-05-20T09:48:15.517039",
     "start_time": "2016-05-20T09:48:15.514776"
    },
    "collapsed": true
   },
   "outputs": [],
   "source": [
    "fname = './test_data/'"
   ]
  },
  {
   "cell_type": "code",
   "execution_count": null,
   "metadata": {
    "collapsed": true
   },
   "outputs": [],
   "source": [
    "# create the test file\n",
    "out = read_data.read_cdf(fname, data_product='1twr10xC1')\n",
    "out = out['1twr10xC1']\n",
    "#     out.relative_humidity.data.to_csv(fname+'1twr10xC1_rh.csv')"
   ]
  },
  {
   "cell_type": "code",
   "execution_count": 60,
   "metadata": {
    "ExecuteTime": {
     "end_time": "2016-05-20T10:14:16.985441",
     "start_time": "2016-05-20T10:14:16.980872"
    },
    "collapsed": false
   },
   "outputs": [],
   "source": [
    "def test_1twr10xC1():\n",
    "    out = read_data.read_cdf(fname, data_product='1twr10xC1')\n",
    "    out = out['1twr10xC1']\n",
    "    soll = pd.read_csv(fname+'1twr10xC1_rh.csv', index_col=0, \n",
    "                       dtype={'rh_25m': np.float32, 'rh_60m': np.float32}\n",
    "                      )\n",
    "    assert np.all(out.relative_humidity.data == soll)"
   ]
  },
  {
   "cell_type": "code",
   "execution_count": 62,
   "metadata": {
    "ExecuteTime": {
     "end_time": "2016-05-20T10:14:25.364785",
     "start_time": "2016-05-20T10:14:24.452799"
    },
    "collapsed": false
   },
   "outputs": [],
   "source": [
    "test_1twr10xC1()"
   ]
  },
  {
   "cell_type": "code",
   "execution_count": null,
   "metadata": {
    "collapsed": true
   },
   "outputs": [],
   "source": []
  }
 ],
 "metadata": {
  "hide_input": false,
  "kernelspec": {
   "display_name": "Python 3",
   "language": "python",
   "name": "python3"
  },
  "language_info": {
   "codemirror_mode": {
    "name": "ipython",
    "version": 3
   },
   "file_extension": ".py",
   "mimetype": "text/x-python",
   "name": "python",
   "nbconvert_exporter": "python",
   "pygments_lexer": "ipython3",
   "version": "3.5.1"
  },
  "toc": {
   "toc_cell": false,
   "toc_number_sections": true,
   "toc_threshold": 6,
   "toc_window_display": false
  }
 },
 "nbformat": 4,
 "nbformat_minor": 0
}
